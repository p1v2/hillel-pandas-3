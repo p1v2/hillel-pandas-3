{
 "cells": [
  {
   "cell_type": "markdown",
   "source": [
    "In this notebook, we will learn about numpy library."
   ],
   "metadata": {
    "collapsed": false
   },
   "id": "34567b328a3c8b18"
  },
  {
   "cell_type": "code",
   "outputs": [],
   "source": [
    "import numpy as np"
   ],
   "metadata": {
    "collapsed": false,
    "ExecuteTime": {
     "end_time": "2024-05-20T16:50:15.915627Z",
     "start_time": "2024-05-20T16:50:14.579487Z"
    }
   },
   "id": "54869a4ee5c00cb",
   "execution_count": 1
  },
  {
   "cell_type": "markdown",
   "source": [
    "Create numpy array"
   ],
   "metadata": {
    "collapsed": false
   },
   "id": "ba47912ea1bc0bfc"
  },
  {
   "cell_type": "code",
   "outputs": [],
   "source": [
    "arr = np.array([1, 2, 3, 4, 5])"
   ],
   "metadata": {
    "collapsed": false,
    "ExecuteTime": {
     "end_time": "2024-05-20T16:50:20.964645Z",
     "start_time": "2024-05-20T16:50:20.961738Z"
    }
   },
   "id": "79cbe61853e040ee",
   "execution_count": 2
  },
  {
   "cell_type": "code",
   "outputs": [],
   "source": [
    "zeros = np.zeros(6)"
   ],
   "metadata": {
    "collapsed": false,
    "ExecuteTime": {
     "end_time": "2024-05-20T16:50:30.226055Z",
     "start_time": "2024-05-20T16:50:30.223540Z"
    }
   },
   "id": "1140537eb847e2d3",
   "execution_count": 4
  },
  {
   "cell_type": "code",
   "outputs": [],
   "source": [
    "ones = np.ones(5)"
   ],
   "metadata": {
    "collapsed": false,
    "ExecuteTime": {
     "end_time": "2024-05-20T16:50:35.265705Z",
     "start_time": "2024-05-20T16:50:35.262491Z"
    }
   },
   "id": "5b60cb66b37368a",
   "execution_count": 5
  },
  {
   "cell_type": "code",
   "outputs": [],
   "source": [
    "random = np.random.rand(7)"
   ],
   "metadata": {
    "collapsed": false,
    "ExecuteTime": {
     "end_time": "2024-05-20T16:51:10.711163Z",
     "start_time": "2024-05-20T16:51:10.708580Z"
    }
   },
   "id": "67086b8b3ae14dc4",
   "execution_count": 9
  },
  {
   "cell_type": "code",
   "outputs": [
    {
     "data": {
      "text/plain": "array([0.70775065, 0.77844466, 0.71436554, 0.78225655, 0.40185372,\n       0.67808805, 0.48502625])"
     },
     "execution_count": 10,
     "metadata": {},
     "output_type": "execute_result"
    }
   ],
   "source": [
    "random"
   ],
   "metadata": {
    "collapsed": false,
    "ExecuteTime": {
     "end_time": "2024-05-20T16:51:13.579087Z",
     "start_time": "2024-05-20T16:51:13.575366Z"
    }
   },
   "id": "324933413c7dee32",
   "execution_count": 10
  },
  {
   "cell_type": "markdown",
   "source": [
    "Some array methods"
   ],
   "metadata": {
    "collapsed": false
   },
   "id": "bf1c0723986dcb92"
  },
  {
   "cell_type": "code",
   "outputs": [],
   "source": [
    "size = arr.size"
   ],
   "metadata": {
    "collapsed": false,
    "ExecuteTime": {
     "end_time": "2024-05-20T16:52:03.488327Z",
     "start_time": "2024-05-20T16:52:03.486163Z"
    }
   },
   "id": "d3e074a97498fd8e",
   "execution_count": 11
  },
  {
   "cell_type": "code",
   "outputs": [],
   "source": [
    "shape = arr.shape"
   ],
   "metadata": {
    "collapsed": false,
    "ExecuteTime": {
     "end_time": "2024-05-20T16:52:04.143880Z",
     "start_time": "2024-05-20T16:52:04.141235Z"
    }
   },
   "id": "4368a2aeee23675f",
   "execution_count": 12
  },
  {
   "cell_type": "code",
   "outputs": [],
   "source": [
    "dtype = arr.dtype"
   ],
   "metadata": {
    "collapsed": false,
    "ExecuteTime": {
     "end_time": "2024-05-20T16:52:04.684438Z",
     "start_time": "2024-05-20T16:52:04.682421Z"
    }
   },
   "id": "6f2612b12555b2d4",
   "execution_count": 13
  },
  {
   "cell_type": "code",
   "outputs": [
    {
     "data": {
      "text/plain": "dtype('int64')"
     },
     "execution_count": 16,
     "metadata": {},
     "output_type": "execute_result"
    }
   ],
   "source": [
    "dtype"
   ],
   "metadata": {
    "collapsed": false,
    "ExecuteTime": {
     "end_time": "2024-05-20T16:52:32.009473Z",
     "start_time": "2024-05-20T16:52:32.006469Z"
    }
   },
   "id": "2690e36fdc7b08b2",
   "execution_count": 16
  },
  {
   "cell_type": "markdown",
   "source": [
    "Operations with the arrays"
   ],
   "metadata": {
    "collapsed": false
   },
   "id": "fca1bca0f69b62db"
  },
  {
   "cell_type": "code",
   "outputs": [
    {
     "data": {
      "text/plain": "array([2, 3, 4, 5, 6])"
     },
     "execution_count": 18,
     "metadata": {},
     "output_type": "execute_result"
    }
   ],
   "source": [
    "arr + 1"
   ],
   "metadata": {
    "collapsed": false,
    "ExecuteTime": {
     "end_time": "2024-05-20T16:54:19.342507Z",
     "start_time": "2024-05-20T16:54:19.339787Z"
    }
   },
   "id": "71a627f37ad99c8a",
   "execution_count": 18
  },
  {
   "cell_type": "code",
   "outputs": [
    {
     "data": {
      "text/plain": "[1, 2, 3, 4, 5]"
     },
     "execution_count": 22,
     "metadata": {},
     "output_type": "execute_result"
    }
   ],
   "source": [
    "python_list = [0,1,2,3,4]\n",
    "[elem + 1 for elem in python_list]"
   ],
   "metadata": {
    "collapsed": false,
    "ExecuteTime": {
     "end_time": "2024-05-20T16:55:18.186599Z",
     "start_time": "2024-05-20T16:55:18.182331Z"
    }
   },
   "id": "900d771cbe5f1f72",
   "execution_count": 22
  },
  {
   "cell_type": "code",
   "outputs": [
    {
     "data": {
      "text/plain": "array([0, 1, 2, 3, 4])"
     },
     "execution_count": 19,
     "metadata": {},
     "output_type": "execute_result"
    }
   ],
   "source": [
    "arr - 1"
   ],
   "metadata": {
    "collapsed": false,
    "ExecuteTime": {
     "end_time": "2024-05-20T16:55:02.392605Z",
     "start_time": "2024-05-20T16:55:02.388265Z"
    }
   },
   "id": "9d53fb0fb3441ce9",
   "execution_count": 19
  },
  {
   "cell_type": "code",
   "outputs": [
    {
     "data": {
      "text/plain": "array([ 2,  4,  6,  8, 10])"
     },
     "execution_count": 20,
     "metadata": {},
     "output_type": "execute_result"
    }
   ],
   "source": [
    "arr * 2"
   ],
   "metadata": {
    "collapsed": false,
    "ExecuteTime": {
     "end_time": "2024-05-20T16:55:07.315827Z",
     "start_time": "2024-05-20T16:55:07.313293Z"
    }
   },
   "id": "34798bdeb7e472d4",
   "execution_count": 20
  },
  {
   "cell_type": "code",
   "outputs": [
    {
     "data": {
      "text/plain": "[0, 1, 2, 3, 4, 0, 1, 2, 3, 4]"
     },
     "execution_count": 25,
     "metadata": {},
     "output_type": "execute_result"
    }
   ],
   "source": [
    "python_list * 2"
   ],
   "metadata": {
    "collapsed": false,
    "ExecuteTime": {
     "end_time": "2024-05-20T16:55:34.693828Z",
     "start_time": "2024-05-20T16:55:34.690817Z"
    }
   },
   "id": "6f8745a1e0fd5ab7",
   "execution_count": 25
  },
  {
   "cell_type": "code",
   "outputs": [
    {
     "data": {
      "text/plain": "array([0.5, 1. , 1.5, 2. , 2.5])"
     },
     "execution_count": 26,
     "metadata": {},
     "output_type": "execute_result"
    }
   ],
   "source": [
    "arr / 2"
   ],
   "metadata": {
    "collapsed": false,
    "ExecuteTime": {
     "end_time": "2024-05-20T16:55:57.102963Z",
     "start_time": "2024-05-20T16:55:57.100407Z"
    }
   },
   "id": "b1c2e92d178ea82",
   "execution_count": 26
  },
  {
   "cell_type": "code",
   "outputs": [
    {
     "data": {
      "text/plain": "array([ 1,  4,  9, 16, 25])"
     },
     "execution_count": 27,
     "metadata": {},
     "output_type": "execute_result"
    }
   ],
   "source": [
    "arr ** 2"
   ],
   "metadata": {
    "collapsed": false,
    "ExecuteTime": {
     "end_time": "2024-05-20T16:56:10.870613Z",
     "start_time": "2024-05-20T16:56:10.867201Z"
    }
   },
   "id": "5f27f795a6f82629",
   "execution_count": 27
  },
  {
   "cell_type": "code",
   "outputs": [
    {
     "data": {
      "text/plain": "array([1, 0, 1, 0, 1])"
     },
     "execution_count": 28,
     "metadata": {},
     "output_type": "execute_result"
    }
   ],
   "source": [
    "arr % 2"
   ],
   "metadata": {
    "collapsed": false,
    "ExecuteTime": {
     "end_time": "2024-05-20T16:56:15.377506Z",
     "start_time": "2024-05-20T16:56:15.375267Z"
    }
   },
   "id": "77585017206018f7",
   "execution_count": 28
  },
  {
   "cell_type": "code",
   "outputs": [
    {
     "data": {
      "text/plain": "array([False, False,  True,  True,  True])"
     },
     "execution_count": 29,
     "metadata": {},
     "output_type": "execute_result"
    }
   ],
   "source": [
    "arr > 2"
   ],
   "metadata": {
    "collapsed": false,
    "ExecuteTime": {
     "end_time": "2024-05-20T16:56:23.237022Z",
     "start_time": "2024-05-20T16:56:23.233383Z"
    }
   },
   "id": "54353a3740fb6fc3",
   "execution_count": 29
  },
  {
   "cell_type": "code",
   "outputs": [
    {
     "data": {
      "text/plain": "array([3, 4, 5])"
     },
     "execution_count": 30,
     "metadata": {},
     "output_type": "execute_result"
    }
   ],
   "source": [
    "arr[arr > 2]"
   ],
   "metadata": {
    "collapsed": false,
    "ExecuteTime": {
     "end_time": "2024-05-20T16:56:40.341612Z",
     "start_time": "2024-05-20T16:56:40.338761Z"
    }
   },
   "id": "5f1ba6df8abc0afa",
   "execution_count": 30
  },
  {
   "cell_type": "code",
   "outputs": [
    {
     "data": {
      "text/plain": "array([2, 4])"
     },
     "execution_count": 31,
     "metadata": {},
     "output_type": "execute_result"
    }
   ],
   "source": [
    "arr[arr % 2 == 0]"
   ],
   "metadata": {
    "collapsed": false,
    "ExecuteTime": {
     "end_time": "2024-05-20T16:56:52.061465Z",
     "start_time": "2024-05-20T16:56:52.058003Z"
    }
   },
   "id": "e3695986207fe91b",
   "execution_count": 31
  },
  {
   "cell_type": "code",
   "outputs": [],
   "source": [
    "arr[arr % 2 == 0] = 0"
   ],
   "metadata": {
    "collapsed": false,
    "ExecuteTime": {
     "end_time": "2024-05-20T16:57:02.045362Z",
     "start_time": "2024-05-20T16:57:02.042911Z"
    }
   },
   "id": "2e33144fe0cdc495",
   "execution_count": 32
  },
  {
   "cell_type": "code",
   "outputs": [
    {
     "data": {
      "text/plain": "array([1, 0, 3, 0, 5])"
     },
     "execution_count": 33,
     "metadata": {},
     "output_type": "execute_result"
    }
   ],
   "source": [
    "arr"
   ],
   "metadata": {
    "collapsed": false,
    "ExecuteTime": {
     "end_time": "2024-05-20T16:57:04.697652Z",
     "start_time": "2024-05-20T16:57:04.694394Z"
    }
   },
   "id": "d871cd790c85a06e",
   "execution_count": 33
  },
  {
   "cell_type": "code",
   "outputs": [
    {
     "data": {
      "text/plain": "1"
     },
     "execution_count": 34,
     "metadata": {},
     "output_type": "execute_result"
    }
   ],
   "source": [
    "arr[0]"
   ],
   "metadata": {
    "collapsed": false,
    "ExecuteTime": {
     "end_time": "2024-05-20T16:57:38.967810Z",
     "start_time": "2024-05-20T16:57:38.963859Z"
    }
   },
   "id": "bfbfbc6d0077d43e",
   "execution_count": 34
  },
  {
   "cell_type": "code",
   "outputs": [
    {
     "data": {
      "text/plain": "array([0, 3])"
     },
     "execution_count": 35,
     "metadata": {},
     "output_type": "execute_result"
    }
   ],
   "source": [
    "arr[1:3]"
   ],
   "metadata": {
    "collapsed": false,
    "ExecuteTime": {
     "end_time": "2024-05-20T16:57:44.769949Z",
     "start_time": "2024-05-20T16:57:44.766076Z"
    }
   },
   "id": "7b0eb5634540ebf7",
   "execution_count": 35
  },
  {
   "cell_type": "code",
   "outputs": [
    {
     "data": {
      "text/plain": "9"
     },
     "execution_count": 36,
     "metadata": {},
     "output_type": "execute_result"
    }
   ],
   "source": [
    "arr.sum()"
   ],
   "metadata": {
    "collapsed": false,
    "ExecuteTime": {
     "end_time": "2024-05-20T16:57:58.197571Z",
     "start_time": "2024-05-20T16:57:58.194190Z"
    }
   },
   "id": "b157eaaf05f10366",
   "execution_count": 36
  },
  {
   "cell_type": "code",
   "outputs": [
    {
     "data": {
      "text/plain": "1.8"
     },
     "execution_count": 37,
     "metadata": {},
     "output_type": "execute_result"
    }
   ],
   "source": [
    "arr.mean()"
   ],
   "metadata": {
    "collapsed": false,
    "ExecuteTime": {
     "end_time": "2024-05-20T16:58:00.946208Z",
     "start_time": "2024-05-20T16:58:00.942813Z"
    }
   },
   "id": "1fa53938bdeb910c",
   "execution_count": 37
  },
  {
   "cell_type": "code",
   "outputs": [
    {
     "data": {
      "text/plain": "1.9390719429665317"
     },
     "execution_count": 38,
     "metadata": {},
     "output_type": "execute_result"
    }
   ],
   "source": [
    "arr.std()"
   ],
   "metadata": {
    "collapsed": false,
    "ExecuteTime": {
     "end_time": "2024-05-20T16:58:11.478282Z",
     "start_time": "2024-05-20T16:58:11.475397Z"
    }
   },
   "id": "d45c2c500100bb18",
   "execution_count": 38
  },
  {
   "cell_type": "code",
   "outputs": [
    {
     "data": {
      "text/plain": "5"
     },
     "execution_count": 39,
     "metadata": {},
     "output_type": "execute_result"
    }
   ],
   "source": [
    "arr.max()"
   ],
   "metadata": {
    "collapsed": false,
    "ExecuteTime": {
     "end_time": "2024-05-20T16:58:27.386870Z",
     "start_time": "2024-05-20T16:58:27.383843Z"
    }
   },
   "id": "5312c9825cad3c82",
   "execution_count": 39
  },
  {
   "cell_type": "markdown",
   "source": [
    "Matrix"
   ],
   "metadata": {
    "collapsed": false
   },
   "id": "f72a88331368e564"
  },
  {
   "cell_type": "code",
   "outputs": [],
   "source": [
    "matrix = np.array([[1,2,3],[4,5,6],[7,8,9]])"
   ],
   "metadata": {
    "collapsed": false,
    "ExecuteTime": {
     "end_time": "2024-05-20T17:00:25.824851Z",
     "start_time": "2024-05-20T17:00:25.822750Z"
    }
   },
   "id": "c6a9e0655a8defd9",
   "execution_count": 41
  },
  {
   "cell_type": "markdown",
   "source": [
    "Transpose"
   ],
   "metadata": {
    "collapsed": false
   },
   "id": "b8e8bad7ec669132"
  },
  {
   "cell_type": "code",
   "outputs": [
    {
     "data": {
      "text/plain": "array([[1, 4, 7],\n       [2, 5, 8],\n       [3, 6, 9]])"
     },
     "execution_count": 42,
     "metadata": {},
     "output_type": "execute_result"
    }
   ],
   "source": [
    "matrix.T"
   ],
   "metadata": {
    "collapsed": false,
    "ExecuteTime": {
     "end_time": "2024-05-20T17:00:28.669311Z",
     "start_time": "2024-05-20T17:00:28.665639Z"
    }
   },
   "id": "b14218357aaae41",
   "execution_count": 42
  },
  {
   "cell_type": "code",
   "outputs": [],
   "source": [
    "transposed = matrix.transpose()"
   ],
   "metadata": {
    "collapsed": false,
    "ExecuteTime": {
     "end_time": "2024-05-20T17:01:30.088751Z",
     "start_time": "2024-05-20T17:01:30.086184Z"
    }
   },
   "id": "ced6618495e9d524",
   "execution_count": 47
  },
  {
   "cell_type": "code",
   "outputs": [
    {
     "data": {
      "text/plain": "array([[ 14,  32,  50],\n       [ 32,  77, 122],\n       [ 50, 122, 194]])"
     },
     "execution_count": 48,
     "metadata": {},
     "output_type": "execute_result"
    }
   ],
   "source": [
    "np.dot(matrix, transposed)"
   ],
   "metadata": {
    "collapsed": false,
    "ExecuteTime": {
     "end_time": "2024-05-20T17:01:30.929361Z",
     "start_time": "2024-05-20T17:01:30.925137Z"
    }
   },
   "id": "b245a202638558e1",
   "execution_count": 48
  },
  {
   "cell_type": "markdown",
   "source": [
    "# Matrix determinant"
   ],
   "metadata": {
    "collapsed": false
   },
   "id": "138e117c8e2958d"
  },
  {
   "cell_type": "code",
   "outputs": [
    {
     "data": {
      "text/plain": "6.0"
     },
     "execution_count": 51,
     "metadata": {},
     "output_type": "execute_result"
    }
   ],
   "source": [
    "np.linalg.det(matrix)"
   ],
   "metadata": {
    "collapsed": false,
    "ExecuteTime": {
     "end_time": "2024-05-20T17:02:37.834125Z",
     "start_time": "2024-05-20T17:02:37.830244Z"
    }
   },
   "id": "505bd7e5a91b4368",
   "execution_count": 51
  },
  {
   "cell_type": "code",
   "outputs": [],
   "source": [
    "matrix = np.array([[1,0,0],[0,2,0],[0,0,3]])"
   ],
   "metadata": {
    "collapsed": false,
    "ExecuteTime": {
     "end_time": "2024-05-20T17:02:32.531637Z",
     "start_time": "2024-05-20T17:02:32.528763Z"
    }
   },
   "id": "f8242b72e937aba2",
   "execution_count": 50
  },
  {
   "cell_type": "markdown",
   "source": [
    "Matrix inverse\n"
   ],
   "metadata": {
    "collapsed": false
   },
   "id": "34a3983c3be09448"
  },
  {
   "cell_type": "code",
   "outputs": [
    {
     "data": {
      "text/plain": "array([[1.        , 0.        , 0.        ],\n       [0.        , 0.5       , 0.        ],\n       [0.        , 0.        , 0.33333333]])"
     },
     "execution_count": 52,
     "metadata": {},
     "output_type": "execute_result"
    }
   ],
   "source": [
    "np.linalg.inv(matrix)"
   ],
   "metadata": {
    "collapsed": false,
    "ExecuteTime": {
     "end_time": "2024-05-20T17:02:53.138422Z",
     "start_time": "2024-05-20T17:02:53.133459Z"
    }
   },
   "id": "edf0e24f7ca52468",
   "execution_count": 52
  },
  {
   "cell_type": "code",
   "outputs": [
    {
     "data": {
      "text/plain": "array([[1., 0., 0.],\n       [0., 1., 0.],\n       [0., 0., 1.]])"
     },
     "execution_count": 53,
     "metadata": {},
     "output_type": "execute_result"
    }
   ],
   "source": [
    "np.dot(matrix, np.linalg.inv(matrix))"
   ],
   "metadata": {
    "collapsed": false,
    "ExecuteTime": {
     "end_time": "2024-05-20T17:03:04.684888Z",
     "start_time": "2024-05-20T17:03:04.681685Z"
    }
   },
   "id": "85aaf176b1522d9b",
   "execution_count": 53
  },
  {
   "cell_type": "markdown",
   "source": [
    "System of linear equations"
   ],
   "metadata": {
    "collapsed": false
   },
   "id": "743f772bd7b791e6"
  },
  {
   "cell_type": "code",
   "outputs": [],
   "source": [
    "A = np.array([[2, 1], [1, 1]])\n",
    "b = np.array([1, 1])"
   ],
   "metadata": {
    "collapsed": false,
    "ExecuteTime": {
     "end_time": "2024-05-20T17:03:47.237227Z",
     "start_time": "2024-05-20T17:03:47.235269Z"
    }
   },
   "id": "ec86c193d4ff1e60",
   "execution_count": 54
  },
  {
   "cell_type": "code",
   "outputs": [],
   "source": [
    "solution = np.linalg.solve(A, b)"
   ],
   "metadata": {
    "collapsed": false,
    "ExecuteTime": {
     "end_time": "2024-05-20T17:03:47.803754Z",
     "start_time": "2024-05-20T17:03:47.801888Z"
    }
   },
   "id": "93fe9350c0914ffe",
   "execution_count": 55
  },
  {
   "cell_type": "code",
   "outputs": [
    {
     "data": {
      "text/plain": "array([0., 1.])"
     },
     "execution_count": 56,
     "metadata": {},
     "output_type": "execute_result"
    }
   ],
   "source": [
    "solution"
   ],
   "metadata": {
    "collapsed": false,
    "ExecuteTime": {
     "end_time": "2024-05-20T17:03:50.847816Z",
     "start_time": "2024-05-20T17:03:50.844168Z"
    }
   },
   "id": "54e3924d5490537c",
   "execution_count": 56
  },
  {
   "cell_type": "code",
   "outputs": [
    {
     "data": {
      "text/plain": "array([1., 1.])"
     },
     "execution_count": 57,
     "metadata": {},
     "output_type": "execute_result"
    }
   ],
   "source": [
    "np.dot(A, solution)"
   ],
   "metadata": {
    "collapsed": false,
    "ExecuteTime": {
     "end_time": "2024-05-20T17:04:03.759296Z",
     "start_time": "2024-05-20T17:04:03.756048Z"
    }
   },
   "id": "712499dab6b95df7",
   "execution_count": 57
  },
  {
   "cell_type": "code",
   "outputs": [],
   "source": [
    "# Scalar product of two vectors"
   ],
   "metadata": {
    "collapsed": false
   },
   "id": "261ff034a0c530a4"
  },
  {
   "cell_type": "code",
   "outputs": [
    {
     "data": {
      "text/plain": "32"
     },
     "execution_count": 58,
     "metadata": {},
     "output_type": "execute_result"
    }
   ],
   "source": [
    "a = np.array([1, 2, 3])\n",
    "b = np.array([4, 5, 6])\n",
    "\n",
    "np.dot(a, b)"
   ],
   "metadata": {
    "collapsed": false,
    "ExecuteTime": {
     "end_time": "2024-05-20T17:04:33.871132Z",
     "start_time": "2024-05-20T17:04:33.866989Z"
    }
   },
   "id": "fbefb958c396e254",
   "execution_count": 58
  },
  {
   "cell_type": "code",
   "outputs": [
    {
     "data": {
      "text/plain": "array([ 4, 10, 18])"
     },
     "execution_count": 59,
     "metadata": {},
     "output_type": "execute_result"
    }
   ],
   "source": [
    "a * b"
   ],
   "metadata": {
    "collapsed": false,
    "ExecuteTime": {
     "end_time": "2024-05-20T17:04:48.155490Z",
     "start_time": "2024-05-20T17:04:48.152594Z"
    }
   },
   "id": "7c56dca5c573f06a",
   "execution_count": 59
  },
  {
   "cell_type": "code",
   "outputs": [],
   "source": [
    "# Квадратне рівняння"
   ],
   "metadata": {
    "collapsed": false
   },
   "id": "ca829fdb1736733b"
  },
  {
   "cell_type": "code",
   "outputs": [],
   "source": [
    "a = 1\n",
    "b = 0\n",
    "c = 1"
   ],
   "metadata": {
    "collapsed": false,
    "ExecuteTime": {
     "end_time": "2024-05-20T17:24:03.897431Z",
     "start_time": "2024-05-20T17:24:03.894569Z"
    }
   },
   "id": "1b60d62265a4e6cb",
   "execution_count": 73
  },
  {
   "cell_type": "code",
   "outputs": [],
   "source": [
    "solution = np.roots([a, b, c])"
   ],
   "metadata": {
    "collapsed": false,
    "ExecuteTime": {
     "end_time": "2024-05-20T17:24:04.608809Z",
     "start_time": "2024-05-20T17:24:04.606272Z"
    }
   },
   "id": "688d4bbe1ce8691d",
   "execution_count": 74
  },
  {
   "cell_type": "code",
   "outputs": [
    {
     "data": {
      "text/plain": "array([-0.+1.j,  0.-1.j])"
     },
     "execution_count": 75,
     "metadata": {},
     "output_type": "execute_result"
    }
   ],
   "source": [
    "solution"
   ],
   "metadata": {
    "collapsed": false,
    "ExecuteTime": {
     "end_time": "2024-05-20T17:24:05.332665Z",
     "start_time": "2024-05-20T17:24:05.329141Z"
    }
   },
   "id": "5a204c1d3f972c92",
   "execution_count": 75
  },
  {
   "cell_type": "code",
   "outputs": [],
   "source": [
    "# x*2 - 3x + 2 = 0\n",
    "# 4 - 6 + 2 = 0\n",
    "# 1 - 3 + 2 = 0"
   ],
   "metadata": {
    "collapsed": false
   },
   "id": "f13c38be24eb9159"
  },
  {
   "cell_type": "code",
   "outputs": [],
   "source": [
    "# How Python stores floats"
   ],
   "metadata": {
    "collapsed": false
   },
   "id": "1225d1e683c65878"
  },
  {
   "cell_type": "code",
   "outputs": [],
   "source": [
    "a = 0.1\n",
    "# 1 * 10 ** -1"
   ],
   "metadata": {
    "collapsed": false,
    "ExecuteTime": {
     "end_time": "2024-05-20T17:25:32.542884Z",
     "start_time": "2024-05-20T17:25:32.540997Z"
    }
   },
   "id": "6543f80e3db91473",
   "execution_count": 76
  },
  {
   "cell_type": "code",
   "outputs": [
    {
     "ename": "AttributeError",
     "evalue": "module 'math' has no attribute 'median'",
     "output_type": "error",
     "traceback": [
      "\u001B[0;31m---------------------------------------------------------------------------\u001B[0m",
      "\u001B[0;31mAttributeError\u001B[0m                            Traceback (most recent call last)",
      "Cell \u001B[0;32mIn[77], line 2\u001B[0m\n\u001B[1;32m      1\u001B[0m \u001B[38;5;28;01mimport\u001B[39;00m \u001B[38;5;21;01mmath\u001B[39;00m\n\u001B[0;32m----> 2\u001B[0m \u001B[43mmath\u001B[49m\u001B[38;5;241;43m.\u001B[39;49m\u001B[43mmedian\u001B[49m([\u001B[38;5;241m1\u001B[39m,\u001B[38;5;241m2\u001B[39m,\u001B[38;5;241m3\u001B[39m,\u001B[38;5;241m4\u001B[39m,\u001B[38;5;241m5\u001B[39m])\n",
      "\u001B[0;31mAttributeError\u001B[0m: module 'math' has no attribute 'median'"
     ]
    }
   ],
   "source": [
    "import math\n",
    "math.median([1,2,3,4,5])"
   ],
   "metadata": {
    "collapsed": false,
    "ExecuteTime": {
     "end_time": "2024-05-20T17:26:02.207028Z",
     "start_time": "2024-05-20T17:26:02.197776Z"
    }
   },
   "id": "acff76bcaa5897af",
   "execution_count": 77
  },
  {
   "cell_type": "code",
   "outputs": [],
   "source": [],
   "metadata": {
    "collapsed": false
   },
   "id": "3cd4a9706bfcf2ce"
  }
 ],
 "metadata": {
  "kernelspec": {
   "display_name": "Python 3",
   "language": "python",
   "name": "python3"
  },
  "language_info": {
   "codemirror_mode": {
    "name": "ipython",
    "version": 2
   },
   "file_extension": ".py",
   "mimetype": "text/x-python",
   "name": "python",
   "nbconvert_exporter": "python",
   "pygments_lexer": "ipython2",
   "version": "2.7.6"
  }
 },
 "nbformat": 4,
 "nbformat_minor": 5
}
