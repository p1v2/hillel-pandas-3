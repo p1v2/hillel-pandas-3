{
 "cells": [
  {
   "cell_type": "code",
   "execution_count": 1,
   "id": "initial_id",
   "metadata": {
    "collapsed": true,
    "ExecuteTime": {
     "end_time": "2024-05-20T17:27:37.408734Z",
     "start_time": "2024-05-20T17:27:37.134902Z"
    }
   },
   "outputs": [],
   "source": [
    "import pandas as pd"
   ]
  },
  {
   "cell_type": "code",
   "outputs": [
    {
     "data": {
      "text/plain": "0    1\n1    3\n2    5\n3    7\n4    9\ndtype: int64"
     },
     "execution_count": 2,
     "metadata": {},
     "output_type": "execute_result"
    }
   ],
   "source": [
    "# 1. Series\n",
    "# 1.1 Create a Series\n",
    "s = pd.Series([1, 3, 5, 7, 9])\n",
    "s"
   ],
   "metadata": {
    "collapsed": false,
    "ExecuteTime": {
     "end_time": "2024-05-20T17:27:50.609486Z",
     "start_time": "2024-05-20T17:27:50.605889Z"
    }
   },
   "id": "6f30af5a7e02936c",
   "execution_count": 2
  },
  {
   "cell_type": "code",
   "outputs": [],
   "source": [
    "# 1.2 Create a Series with index\n",
    "populations = pd.Series([100, 200, 300, 400, 500], index=['China', 'USA', 'Japan', 'Germany', 'UK'])"
   ],
   "metadata": {
    "collapsed": false,
    "ExecuteTime": {
     "end_time": "2024-05-20T17:28:28.263947Z",
     "start_time": "2024-05-20T17:28:28.260524Z"
    }
   },
   "id": "11089f5113c868b6",
   "execution_count": 3
  },
  {
   "cell_type": "code",
   "outputs": [
    {
     "data": {
      "text/plain": "China      100\nUSA        200\nJapan      300\nGermany    400\nUK         500\ndtype: int64"
     },
     "execution_count": 4,
     "metadata": {},
     "output_type": "execute_result"
    }
   ],
   "source": [
    "populations"
   ],
   "metadata": {
    "collapsed": false,
    "ExecuteTime": {
     "end_time": "2024-05-20T17:28:30.855225Z",
     "start_time": "2024-05-20T17:28:30.851159Z"
    }
   },
   "id": "da4903c4d4b60d51",
   "execution_count": 4
  },
  {
   "cell_type": "code",
   "outputs": [],
   "source": [
    "# 1.3 Create a Series from a dictionary"
   ],
   "metadata": {
    "collapsed": false,
    "ExecuteTime": {
     "end_time": "2024-05-20T17:29:14.081413Z",
     "start_time": "2024-05-20T17:29:14.078910Z"
    }
   },
   "id": "46bfb8d73a8f178b",
   "execution_count": 5
  },
  {
   "cell_type": "code",
   "outputs": [],
   "source": [
    "populations_dict = {'China': 100, 'USA': 200, 'Japan': 300, 'Germany': 400, 'UK': 500}\n",
    "populations = pd.Series(populations_dict)"
   ],
   "metadata": {
    "collapsed": false,
    "ExecuteTime": {
     "end_time": "2024-05-20T17:29:28.081285Z",
     "start_time": "2024-05-20T17:29:28.078138Z"
    }
   },
   "id": "d3039ac0a6c7c0e6",
   "execution_count": 6
  },
  {
   "cell_type": "code",
   "outputs": [
    {
     "data": {
      "text/plain": "UK         500\nGermany    400\nJapan      300\nUSA        200\nChina      100\ndtype: int64"
     },
     "execution_count": 10,
     "metadata": {},
     "output_type": "execute_result"
    }
   ],
   "source": [
    "populations.sort_values(ascending=False)"
   ],
   "metadata": {
    "collapsed": false,
    "ExecuteTime": {
     "end_time": "2024-05-20T17:30:29.447352Z",
     "start_time": "2024-05-20T17:30:29.442536Z"
    }
   },
   "id": "b52e101ec6a3daf2",
   "execution_count": 10
  },
  {
   "cell_type": "code",
   "outputs": [
    {
     "data": {
      "text/plain": "100"
     },
     "execution_count": 8,
     "metadata": {},
     "output_type": "execute_result"
    }
   ],
   "source": [
    "# 1.4 Access elements in a Series\n",
    "populations['China']"
   ],
   "metadata": {
    "collapsed": false,
    "ExecuteTime": {
     "end_time": "2024-05-20T17:29:42.340848Z",
     "start_time": "2024-05-20T17:29:42.337464Z"
    }
   },
   "id": "fd8b187d933908d3",
   "execution_count": 8
  },
  {
   "cell_type": "code",
   "outputs": [
    {
     "name": "stderr",
     "output_type": "stream",
     "text": [
      "/var/folders/m3/wzjr402d7_l04qbtd4y50gv80000gn/T/ipykernel_30937/1826925320.py:1: FutureWarning: Series.__getitem__ treating keys as positions is deprecated. In a future version, integer keys will always be treated as labels (consistent with DataFrame behavior). To access a value by position, use `ser.iloc[pos]`\n",
      "  populations[0]\n"
     ]
    },
    {
     "data": {
      "text/plain": "100"
     },
     "execution_count": 9,
     "metadata": {},
     "output_type": "execute_result"
    }
   ],
   "source": [
    "populations[0]"
   ],
   "metadata": {
    "collapsed": false,
    "ExecuteTime": {
     "end_time": "2024-05-20T17:29:49.684967Z",
     "start_time": "2024-05-20T17:29:49.680859Z"
    }
   },
   "id": "8b5b54b6d7c610f8",
   "execution_count": 9
  },
  {
   "cell_type": "code",
   "outputs": [
    {
     "data": {
      "text/plain": "China    100\nUSA      200\nJapan    300\ndtype: int64"
     },
     "execution_count": 11,
     "metadata": {},
     "output_type": "execute_result"
    }
   ],
   "source": [
    "# 1.5 Slicing\n",
    "populations['China':'Japan']"
   ],
   "metadata": {
    "collapsed": false,
    "ExecuteTime": {
     "end_time": "2024-05-20T17:30:53.492978Z",
     "start_time": "2024-05-20T17:30:53.487610Z"
    }
   },
   "id": "fe744571193ac189",
   "execution_count": 11
  },
  {
   "cell_type": "code",
   "outputs": [
    {
     "data": {
      "text/plain": "Japan      300\nGermany    400\nUK         500\ndtype: int64"
     },
     "execution_count": 12,
     "metadata": {},
     "output_type": "execute_result"
    }
   ],
   "source": [
    "# 1.6 Filtering\n",
    "populations[populations > 200]"
   ],
   "metadata": {
    "collapsed": false,
    "ExecuteTime": {
     "end_time": "2024-05-20T17:31:13.583282Z",
     "start_time": "2024-05-20T17:31:13.579009Z"
    }
   },
   "id": "1257f92fad07fc45",
   "execution_count": 12
  },
  {
   "cell_type": "code",
   "outputs": [
    {
     "data": {
      "text/plain": "China       200\nUSA         400\nJapan       600\nGermany     800\nUK         1000\ndtype: int64"
     },
     "execution_count": 13,
     "metadata": {},
     "output_type": "execute_result"
    }
   ],
   "source": [
    "# 1.7 Operations\n",
    "populations * 2"
   ],
   "metadata": {
    "collapsed": false,
    "ExecuteTime": {
     "end_time": "2024-05-20T17:31:22.304415Z",
     "start_time": "2024-05-20T17:31:22.299491Z"
    }
   },
   "id": "1266327b1896fb37",
   "execution_count": 13
  },
  {
   "cell_type": "code",
   "outputs": [
    {
     "data": {
      "text/plain": "China      100\nUSA        200\nJapan      300\nGermany    400\nUK         500\nUkraine    600\ndtype: int64"
     },
     "execution_count": 14,
     "metadata": {},
     "output_type": "execute_result"
    }
   ],
   "source": [
    "# Append Ukraine to the Series\n",
    "populations['Ukraine'] = 600\n",
    "populations"
   ],
   "metadata": {
    "collapsed": false,
    "ExecuteTime": {
     "end_time": "2024-05-20T17:31:58.602549Z",
     "start_time": "2024-05-20T17:31:58.598578Z"
    }
   },
   "id": "159ed9bcd517ba5",
   "execution_count": 14
  },
  {
   "cell_type": "code",
   "outputs": [],
   "source": [
    "# 1.8 Missing data\n",
    "populations['France'] = None"
   ],
   "metadata": {
    "collapsed": false,
    "ExecuteTime": {
     "end_time": "2024-05-20T17:32:17.055852Z",
     "start_time": "2024-05-20T17:32:17.052547Z"
    }
   },
   "id": "6adc996b045af3b4",
   "execution_count": 15
  },
  {
   "cell_type": "code",
   "outputs": [
    {
     "data": {
      "text/plain": "China      100.0\nUSA        200.0\nJapan      300.0\nGermany    400.0\nUK         500.0\nUkraine    600.0\nFrance       NaN\ndtype: float64"
     },
     "execution_count": 16,
     "metadata": {},
     "output_type": "execute_result"
    }
   ],
   "source": [
    "populations"
   ],
   "metadata": {
    "collapsed": false,
    "ExecuteTime": {
     "end_time": "2024-05-20T17:32:20.250817Z",
     "start_time": "2024-05-20T17:32:20.246938Z"
    }
   },
   "id": "3420d84314a7c050",
   "execution_count": 16
  },
  {
   "cell_type": "code",
   "outputs": [
    {
     "data": {
      "text/plain": "China      100.0\nUSA        200.0\nJapan      300.0\nGermany    400.0\nUK         500.0\nUkraine    600.0\ndtype: float64"
     },
     "execution_count": 19,
     "metadata": {},
     "output_type": "execute_result"
    }
   ],
   "source": [
    "populations[~populations.isnull()]"
   ],
   "metadata": {
    "collapsed": false,
    "ExecuteTime": {
     "end_time": "2024-05-20T17:32:46.430275Z",
     "start_time": "2024-05-20T17:32:46.425749Z"
    }
   },
   "id": "d043fcb52473d3bf",
   "execution_count": 19
  },
  {
   "cell_type": "code",
   "outputs": [
    {
     "data": {
      "text/plain": "country\nChina      100.0\nUSA        200.0\nJapan      300.0\nGermany    400.0\nUK         500.0\nUkraine    600.0\nFrance       NaN\nName: population, dtype: float64"
     },
     "execution_count": 20,
     "metadata": {},
     "output_type": "execute_result"
    }
   ],
   "source": [
    "# 1.9 Name\n",
    "populations.name = 'population'\n",
    "populations.index.name = 'country'\n",
    "populations"
   ],
   "metadata": {
    "collapsed": false,
    "ExecuteTime": {
     "end_time": "2024-05-20T17:33:11.054384Z",
     "start_time": "2024-05-20T17:33:11.050868Z"
    }
   },
   "id": "e8d96e5908349706",
   "execution_count": 20
  },
  {
   "cell_type": "code",
   "outputs": [],
   "source": [
    "# 2. DataFrame\n",
    "# 2.1 Create a DataFrame\n",
    "countries_data = {\n",
    "    'country': ['China', 'USA', 'Japan', 'Germany', 'UK'],\n",
    "    'population': [100, 200, 300, 400, 500],\n",
    "    'area': [1000, 2000, 3000, 4000, 5000],\n",
    "    'capital': ['Beijing', 'Washington', 'Tokyo', 'Berlin', 'London'],\n",
    "    'density': [100, 200, 300, 100, 100],\n",
    "    'gdp_per_capita': [10000, 50000, 40000, 60000, 45000]\n",
    "}\n",
    "countries = pd.DataFrame(countries_data)"
   ],
   "metadata": {
    "collapsed": false,
    "ExecuteTime": {
     "end_time": "2024-05-20T17:34:49.326990Z",
     "start_time": "2024-05-20T17:34:49.322956Z"
    }
   },
   "id": "35f41c039b8f367a",
   "execution_count": 21
  },
  {
   "cell_type": "code",
   "outputs": [
    {
     "data": {
      "text/plain": "         population  area     capital  density  gdp_per_capita\ncountry                                                       \nChina           100  1000     Beijing      100           10000\nUSA             200  2000  Washington      200           50000\nJapan           300  3000       Tokyo      300           40000\nGermany         400  4000      Berlin      100           60000\nUK              500  5000      London      100           45000",
      "text/html": "<div>\n<style scoped>\n    .dataframe tbody tr th:only-of-type {\n        vertical-align: middle;\n    }\n\n    .dataframe tbody tr th {\n        vertical-align: top;\n    }\n\n    .dataframe thead th {\n        text-align: right;\n    }\n</style>\n<table border=\"1\" class=\"dataframe\">\n  <thead>\n    <tr style=\"text-align: right;\">\n      <th></th>\n      <th>population</th>\n      <th>area</th>\n      <th>capital</th>\n      <th>density</th>\n      <th>gdp_per_capita</th>\n    </tr>\n    <tr>\n      <th>country</th>\n      <th></th>\n      <th></th>\n      <th></th>\n      <th></th>\n      <th></th>\n    </tr>\n  </thead>\n  <tbody>\n    <tr>\n      <th>China</th>\n      <td>100</td>\n      <td>1000</td>\n      <td>Beijing</td>\n      <td>100</td>\n      <td>10000</td>\n    </tr>\n    <tr>\n      <th>USA</th>\n      <td>200</td>\n      <td>2000</td>\n      <td>Washington</td>\n      <td>200</td>\n      <td>50000</td>\n    </tr>\n    <tr>\n      <th>Japan</th>\n      <td>300</td>\n      <td>3000</td>\n      <td>Tokyo</td>\n      <td>300</td>\n      <td>40000</td>\n    </tr>\n    <tr>\n      <th>Germany</th>\n      <td>400</td>\n      <td>4000</td>\n      <td>Berlin</td>\n      <td>100</td>\n      <td>60000</td>\n    </tr>\n    <tr>\n      <th>UK</th>\n      <td>500</td>\n      <td>5000</td>\n      <td>London</td>\n      <td>100</td>\n      <td>45000</td>\n    </tr>\n  </tbody>\n</table>\n</div>"
     },
     "execution_count": 26,
     "metadata": {},
     "output_type": "execute_result"
    }
   ],
   "source": [
    "countries"
   ],
   "metadata": {
    "collapsed": false,
    "ExecuteTime": {
     "end_time": "2024-05-20T17:36:52.006329Z",
     "start_time": "2024-05-20T17:36:52.000229Z"
    }
   },
   "id": "17f7f8f524df3530",
   "execution_count": 26
  },
  {
   "cell_type": "code",
   "outputs": [],
   "source": [
    "countries.set_index('country', inplace=True)"
   ],
   "metadata": {
    "collapsed": false,
    "ExecuteTime": {
     "end_time": "2024-05-20T17:36:49.155529Z",
     "start_time": "2024-05-20T17:36:49.152300Z"
    }
   },
   "id": "3b953e9f11133f11",
   "execution_count": 25
  },
  {
   "cell_type": "code",
   "outputs": [
    {
     "data": {
      "text/plain": "country\nChina         Beijing\nUSA        Washington\nJapan           Tokyo\nGermany        Berlin\nUK             London\nName: capital, dtype: object"
     },
     "execution_count": 27,
     "metadata": {},
     "output_type": "execute_result"
    }
   ],
   "source": [
    "# 2.2 Access elements in a DataFrame\n",
    "countries['capital']"
   ],
   "metadata": {
    "collapsed": false,
    "ExecuteTime": {
     "end_time": "2024-05-20T17:37:12.821573Z",
     "start_time": "2024-05-20T17:37:12.817428Z"
    }
   },
   "id": "e1f104b0d512ffd2",
   "execution_count": 27
  },
  {
   "cell_type": "code",
   "outputs": [
    {
     "data": {
      "text/plain": "population            100\narea                 1000\ncapital           Beijing\ndensity               100\ngdp_per_capita      10000\nName: China, dtype: object"
     },
     "execution_count": 28,
     "metadata": {},
     "output_type": "execute_result"
    }
   ],
   "source": [
    "countries.loc['China']"
   ],
   "metadata": {
    "collapsed": false,
    "ExecuteTime": {
     "end_time": "2024-05-20T17:37:37.238902Z",
     "start_time": "2024-05-20T17:37:37.234773Z"
    }
   },
   "id": "8fd15785ea9e3568",
   "execution_count": 28
  },
  {
   "cell_type": "code",
   "outputs": [
    {
     "data": {
      "text/plain": "population               200\narea                    2000\ncapital           Washington\ndensity                  200\ngdp_per_capita         50000\nName: USA, dtype: object"
     },
     "execution_count": 30,
     "metadata": {},
     "output_type": "execute_result"
    }
   ],
   "source": [
    "countries.iloc[1]"
   ],
   "metadata": {
    "collapsed": false,
    "ExecuteTime": {
     "end_time": "2024-05-20T17:38:09.243351Z",
     "start_time": "2024-05-20T17:38:09.239806Z"
    }
   },
   "id": "5bee39956b08fa2f",
   "execution_count": 30
  },
  {
   "cell_type": "code",
   "outputs": [
    {
     "data": {
      "text/plain": "'Beijing'"
     },
     "execution_count": 31,
     "metadata": {},
     "output_type": "execute_result"
    }
   ],
   "source": [
    "countries['capital']['China']"
   ],
   "metadata": {
    "collapsed": false,
    "ExecuteTime": {
     "end_time": "2024-05-20T17:38:23.535383Z",
     "start_time": "2024-05-20T17:38:23.532360Z"
    }
   },
   "id": "aa5febd4dcb0ceac",
   "execution_count": 31
  },
  {
   "cell_type": "code",
   "outputs": [
    {
     "data": {
      "text/plain": "country\nChina         Beijing\nUSA        Washington\nJapan           Tokyo\nGermany        Berlin\nUK             London\nName: capital, dtype: object"
     },
     "execution_count": 32,
     "metadata": {},
     "output_type": "execute_result"
    }
   ],
   "source": [
    "countries.capital"
   ],
   "metadata": {
    "collapsed": false,
    "ExecuteTime": {
     "end_time": "2024-05-20T17:38:37.156072Z",
     "start_time": "2024-05-20T17:38:37.152034Z"
    }
   },
   "id": "5d33707594389177",
   "execution_count": 32
  },
  {
   "cell_type": "code",
   "outputs": [
    {
     "data": {
      "text/plain": "         population  area     capital  density  gdp_per_capita\ncountry                                                       \nChina           100  1000     Beijing      100           10000\nUSA             200  2000  Washington      200           50000\nJapan           300  3000       Tokyo      300           40000",
      "text/html": "<div>\n<style scoped>\n    .dataframe tbody tr th:only-of-type {\n        vertical-align: middle;\n    }\n\n    .dataframe tbody tr th {\n        vertical-align: top;\n    }\n\n    .dataframe thead th {\n        text-align: right;\n    }\n</style>\n<table border=\"1\" class=\"dataframe\">\n  <thead>\n    <tr style=\"text-align: right;\">\n      <th></th>\n      <th>population</th>\n      <th>area</th>\n      <th>capital</th>\n      <th>density</th>\n      <th>gdp_per_capita</th>\n    </tr>\n    <tr>\n      <th>country</th>\n      <th></th>\n      <th></th>\n      <th></th>\n      <th></th>\n      <th></th>\n    </tr>\n  </thead>\n  <tbody>\n    <tr>\n      <th>China</th>\n      <td>100</td>\n      <td>1000</td>\n      <td>Beijing</td>\n      <td>100</td>\n      <td>10000</td>\n    </tr>\n    <tr>\n      <th>USA</th>\n      <td>200</td>\n      <td>2000</td>\n      <td>Washington</td>\n      <td>200</td>\n      <td>50000</td>\n    </tr>\n    <tr>\n      <th>Japan</th>\n      <td>300</td>\n      <td>3000</td>\n      <td>Tokyo</td>\n      <td>300</td>\n      <td>40000</td>\n    </tr>\n  </tbody>\n</table>\n</div>"
     },
     "execution_count": 33,
     "metadata": {},
     "output_type": "execute_result"
    }
   ],
   "source": [
    "# 2.3 Slicing\n",
    "countries['China':'Japan']"
   ],
   "metadata": {
    "collapsed": false,
    "ExecuteTime": {
     "end_time": "2024-05-20T17:39:22.316731Z",
     "start_time": "2024-05-20T17:39:22.311624Z"
    }
   },
   "id": "64c3a40d4a128f48",
   "execution_count": 33
  },
  {
   "cell_type": "code",
   "outputs": [
    {
     "data": {
      "text/plain": "         population  area     capital  density  gdp_per_capita\ncountry                                                       \nUSA             200  2000  Washington      200           50000",
      "text/html": "<div>\n<style scoped>\n    .dataframe tbody tr th:only-of-type {\n        vertical-align: middle;\n    }\n\n    .dataframe tbody tr th {\n        vertical-align: top;\n    }\n\n    .dataframe thead th {\n        text-align: right;\n    }\n</style>\n<table border=\"1\" class=\"dataframe\">\n  <thead>\n    <tr style=\"text-align: right;\">\n      <th></th>\n      <th>population</th>\n      <th>area</th>\n      <th>capital</th>\n      <th>density</th>\n      <th>gdp_per_capita</th>\n    </tr>\n    <tr>\n      <th>country</th>\n      <th></th>\n      <th></th>\n      <th></th>\n      <th></th>\n      <th></th>\n    </tr>\n  </thead>\n  <tbody>\n    <tr>\n      <th>USA</th>\n      <td>200</td>\n      <td>2000</td>\n      <td>Washington</td>\n      <td>200</td>\n      <td>50000</td>\n    </tr>\n  </tbody>\n</table>\n</div>"
     },
     "execution_count": 37,
     "metadata": {},
     "output_type": "execute_result"
    }
   ],
   "source": [
    "# 2.4 Filtering\n",
    "countries[(countries['density'] > 100) & (countries['gdp_per_capita'] > 40000)]"
   ],
   "metadata": {
    "collapsed": false,
    "ExecuteTime": {
     "end_time": "2024-05-20T17:40:07.440284Z",
     "start_time": "2024-05-20T17:40:07.433868Z"
    }
   },
   "id": "e275ea587dd296d9",
   "execution_count": 37
  },
  {
   "cell_type": "code",
   "outputs": [
    {
     "data": {
      "text/plain": "         population  area     capital  density  gdp_per_capita\ncountry                                                       \nUSA             200  2000  Washington      200           50000\nGermany         400  4000      Berlin      100           60000\nUK              500  5000      London      100           45000",
      "text/html": "<div>\n<style scoped>\n    .dataframe tbody tr th:only-of-type {\n        vertical-align: middle;\n    }\n\n    .dataframe tbody tr th {\n        vertical-align: top;\n    }\n\n    .dataframe thead th {\n        text-align: right;\n    }\n</style>\n<table border=\"1\" class=\"dataframe\">\n  <thead>\n    <tr style=\"text-align: right;\">\n      <th></th>\n      <th>population</th>\n      <th>area</th>\n      <th>capital</th>\n      <th>density</th>\n      <th>gdp_per_capita</th>\n    </tr>\n    <tr>\n      <th>country</th>\n      <th></th>\n      <th></th>\n      <th></th>\n      <th></th>\n      <th></th>\n    </tr>\n  </thead>\n  <tbody>\n    <tr>\n      <th>USA</th>\n      <td>200</td>\n      <td>2000</td>\n      <td>Washington</td>\n      <td>200</td>\n      <td>50000</td>\n    </tr>\n    <tr>\n      <th>Germany</th>\n      <td>400</td>\n      <td>4000</td>\n      <td>Berlin</td>\n      <td>100</td>\n      <td>60000</td>\n    </tr>\n    <tr>\n      <th>UK</th>\n      <td>500</td>\n      <td>5000</td>\n      <td>London</td>\n      <td>100</td>\n      <td>45000</td>\n    </tr>\n  </tbody>\n</table>\n</div>"
     },
     "execution_count": 39,
     "metadata": {},
     "output_type": "execute_result"
    }
   ],
   "source": [
    "# \"Or\" filter\n",
    "countries[((~countries['density'] > 100)) | (countries['gdp_per_capita'] > 40000)]"
   ],
   "metadata": {
    "collapsed": false,
    "ExecuteTime": {
     "end_time": "2024-05-20T17:40:52.473146Z",
     "start_time": "2024-05-20T17:40:52.466730Z"
    }
   },
   "id": "22537a07a2d86e7a",
   "execution_count": 39
  },
  {
   "cell_type": "code",
   "outputs": [],
   "source": [
    "# 2.5 Operations\n",
    "countries['gdp'] = countries['population'] * countries['gdp_per_capita']"
   ],
   "metadata": {
    "collapsed": false,
    "ExecuteTime": {
     "end_time": "2024-05-20T17:41:25.744135Z",
     "start_time": "2024-05-20T17:41:25.741795Z"
    }
   },
   "id": "e3dd15f5e8b243c6",
   "execution_count": 40
  },
  {
   "cell_type": "code",
   "outputs": [
    {
     "data": {
      "text/plain": "         population  area     capital  density  gdp_per_capita       gdp\ncountry                                                                 \nChina           100  1000     Beijing      100           10000   1000000\nUSA             200  2000  Washington      200           50000  10000000\nJapan           300  3000       Tokyo      300           40000  12000000\nGermany         400  4000      Berlin      100           60000  24000000\nUK              500  5000      London      100           45000  22500000",
      "text/html": "<div>\n<style scoped>\n    .dataframe tbody tr th:only-of-type {\n        vertical-align: middle;\n    }\n\n    .dataframe tbody tr th {\n        vertical-align: top;\n    }\n\n    .dataframe thead th {\n        text-align: right;\n    }\n</style>\n<table border=\"1\" class=\"dataframe\">\n  <thead>\n    <tr style=\"text-align: right;\">\n      <th></th>\n      <th>population</th>\n      <th>area</th>\n      <th>capital</th>\n      <th>density</th>\n      <th>gdp_per_capita</th>\n      <th>gdp</th>\n    </tr>\n    <tr>\n      <th>country</th>\n      <th></th>\n      <th></th>\n      <th></th>\n      <th></th>\n      <th></th>\n      <th></th>\n    </tr>\n  </thead>\n  <tbody>\n    <tr>\n      <th>China</th>\n      <td>100</td>\n      <td>1000</td>\n      <td>Beijing</td>\n      <td>100</td>\n      <td>10000</td>\n      <td>1000000</td>\n    </tr>\n    <tr>\n      <th>USA</th>\n      <td>200</td>\n      <td>2000</td>\n      <td>Washington</td>\n      <td>200</td>\n      <td>50000</td>\n      <td>10000000</td>\n    </tr>\n    <tr>\n      <th>Japan</th>\n      <td>300</td>\n      <td>3000</td>\n      <td>Tokyo</td>\n      <td>300</td>\n      <td>40000</td>\n      <td>12000000</td>\n    </tr>\n    <tr>\n      <th>Germany</th>\n      <td>400</td>\n      <td>4000</td>\n      <td>Berlin</td>\n      <td>100</td>\n      <td>60000</td>\n      <td>24000000</td>\n    </tr>\n    <tr>\n      <th>UK</th>\n      <td>500</td>\n      <td>5000</td>\n      <td>London</td>\n      <td>100</td>\n      <td>45000</td>\n      <td>22500000</td>\n    </tr>\n  </tbody>\n</table>\n</div>"
     },
     "execution_count": 41,
     "metadata": {},
     "output_type": "execute_result"
    }
   ],
   "source": [
    "countries"
   ],
   "metadata": {
    "collapsed": false,
    "ExecuteTime": {
     "end_time": "2024-05-20T17:41:33.077202Z",
     "start_time": "2024-05-20T17:41:33.071736Z"
    }
   },
   "id": "32888fe45263cc5a",
   "execution_count": 41
  },
  {
   "cell_type": "code",
   "outputs": [],
   "source": [
    "# 2.6 Missing data\n",
    "countries['currency'] = ['CNY', 'USD', 'JPY', None, 'GBP']"
   ],
   "metadata": {
    "collapsed": false,
    "ExecuteTime": {
     "end_time": "2024-05-20T17:42:16.273030Z",
     "start_time": "2024-05-20T17:42:16.270240Z"
    }
   },
   "id": "645e930268a5d70c",
   "execution_count": 42
  },
  {
   "cell_type": "code",
   "outputs": [
    {
     "data": {
      "text/plain": "         population  area     capital  density  gdp_per_capita       gdp  \\\ncountry                                                                    \nChina           100  1000     Beijing      100           10000   1000000   \nUSA             200  2000  Washington      200           50000  10000000   \nJapan           300  3000       Tokyo      300           40000  12000000   \nGermany         400  4000      Berlin      100           60000  24000000   \nUK              500  5000      London      100           45000  22500000   \n\n        currency  \ncountry           \nChina        CNY  \nUSA          USD  \nJapan        JPY  \nGermany     None  \nUK           GBP  ",
      "text/html": "<div>\n<style scoped>\n    .dataframe tbody tr th:only-of-type {\n        vertical-align: middle;\n    }\n\n    .dataframe tbody tr th {\n        vertical-align: top;\n    }\n\n    .dataframe thead th {\n        text-align: right;\n    }\n</style>\n<table border=\"1\" class=\"dataframe\">\n  <thead>\n    <tr style=\"text-align: right;\">\n      <th></th>\n      <th>population</th>\n      <th>area</th>\n      <th>capital</th>\n      <th>density</th>\n      <th>gdp_per_capita</th>\n      <th>gdp</th>\n      <th>currency</th>\n    </tr>\n    <tr>\n      <th>country</th>\n      <th></th>\n      <th></th>\n      <th></th>\n      <th></th>\n      <th></th>\n      <th></th>\n      <th></th>\n    </tr>\n  </thead>\n  <tbody>\n    <tr>\n      <th>China</th>\n      <td>100</td>\n      <td>1000</td>\n      <td>Beijing</td>\n      <td>100</td>\n      <td>10000</td>\n      <td>1000000</td>\n      <td>CNY</td>\n    </tr>\n    <tr>\n      <th>USA</th>\n      <td>200</td>\n      <td>2000</td>\n      <td>Washington</td>\n      <td>200</td>\n      <td>50000</td>\n      <td>10000000</td>\n      <td>USD</td>\n    </tr>\n    <tr>\n      <th>Japan</th>\n      <td>300</td>\n      <td>3000</td>\n      <td>Tokyo</td>\n      <td>300</td>\n      <td>40000</td>\n      <td>12000000</td>\n      <td>JPY</td>\n    </tr>\n    <tr>\n      <th>Germany</th>\n      <td>400</td>\n      <td>4000</td>\n      <td>Berlin</td>\n      <td>100</td>\n      <td>60000</td>\n      <td>24000000</td>\n      <td>None</td>\n    </tr>\n    <tr>\n      <th>UK</th>\n      <td>500</td>\n      <td>5000</td>\n      <td>London</td>\n      <td>100</td>\n      <td>45000</td>\n      <td>22500000</td>\n      <td>GBP</td>\n    </tr>\n  </tbody>\n</table>\n</div>"
     },
     "execution_count": 43,
     "metadata": {},
     "output_type": "execute_result"
    }
   ],
   "source": [
    "countries"
   ],
   "metadata": {
    "collapsed": false,
    "ExecuteTime": {
     "end_time": "2024-05-20T17:42:20.344821Z",
     "start_time": "2024-05-20T17:42:20.339554Z"
    }
   },
   "id": "12f6d1fb0a693395",
   "execution_count": 43
  },
  {
   "cell_type": "code",
   "outputs": [
    {
     "data": {
      "text/plain": "         population  area     capital  density  gdp_per_capita       gdp  \\\ncountry                                                                    \nChina           100  1000     Beijing      100           10000   1000000   \nUSA             200  2000  Washington      200           50000  10000000   \nJapan           300  3000       Tokyo      300           40000  12000000   \nUK              500  5000      London      100           45000  22500000   \n\n        currency  \ncountry           \nChina        CNY  \nUSA          USD  \nJapan        JPY  \nUK           GBP  ",
      "text/html": "<div>\n<style scoped>\n    .dataframe tbody tr th:only-of-type {\n        vertical-align: middle;\n    }\n\n    .dataframe tbody tr th {\n        vertical-align: top;\n    }\n\n    .dataframe thead th {\n        text-align: right;\n    }\n</style>\n<table border=\"1\" class=\"dataframe\">\n  <thead>\n    <tr style=\"text-align: right;\">\n      <th></th>\n      <th>population</th>\n      <th>area</th>\n      <th>capital</th>\n      <th>density</th>\n      <th>gdp_per_capita</th>\n      <th>gdp</th>\n      <th>currency</th>\n    </tr>\n    <tr>\n      <th>country</th>\n      <th></th>\n      <th></th>\n      <th></th>\n      <th></th>\n      <th></th>\n      <th></th>\n      <th></th>\n    </tr>\n  </thead>\n  <tbody>\n    <tr>\n      <th>China</th>\n      <td>100</td>\n      <td>1000</td>\n      <td>Beijing</td>\n      <td>100</td>\n      <td>10000</td>\n      <td>1000000</td>\n      <td>CNY</td>\n    </tr>\n    <tr>\n      <th>USA</th>\n      <td>200</td>\n      <td>2000</td>\n      <td>Washington</td>\n      <td>200</td>\n      <td>50000</td>\n      <td>10000000</td>\n      <td>USD</td>\n    </tr>\n    <tr>\n      <th>Japan</th>\n      <td>300</td>\n      <td>3000</td>\n      <td>Tokyo</td>\n      <td>300</td>\n      <td>40000</td>\n      <td>12000000</td>\n      <td>JPY</td>\n    </tr>\n    <tr>\n      <th>UK</th>\n      <td>500</td>\n      <td>5000</td>\n      <td>London</td>\n      <td>100</td>\n      <td>45000</td>\n      <td>22500000</td>\n      <td>GBP</td>\n    </tr>\n  </tbody>\n</table>\n</div>"
     },
     "execution_count": 44,
     "metadata": {},
     "output_type": "execute_result"
    }
   ],
   "source": [
    "countries.dropna()"
   ],
   "metadata": {
    "collapsed": false,
    "ExecuteTime": {
     "end_time": "2024-05-20T17:42:51.061501Z",
     "start_time": "2024-05-20T17:42:51.056650Z"
    }
   },
   "id": "765b9840722f2906",
   "execution_count": 44
  },
  {
   "cell_type": "code",
   "outputs": [],
   "source": [
    "countries.fillna('EUR', inplace=True)"
   ],
   "metadata": {
    "collapsed": false,
    "ExecuteTime": {
     "end_time": "2024-05-20T17:43:32.836234Z",
     "start_time": "2024-05-20T17:43:32.833343Z"
    }
   },
   "id": "ed9b81b5395f9579",
   "execution_count": 46
  },
  {
   "cell_type": "code",
   "outputs": [
    {
     "data": {
      "text/plain": "         population  area     capital  density  gdp_per_capita       gdp  \\\ncountry                                                                    \nChina           100  1000     Beijing      100           10000   1000000   \nUSA             200  2000  Washington      200           50000  10000000   \nJapan           300  3000       Tokyo      300           40000  12000000   \nGermany         400  4000      Berlin      100           60000  24000000   \nUK              500  5000      London      100           45000  22500000   \n\n        currency  \ncountry           \nChina        CNY  \nUSA          USD  \nJapan        JPY  \nGermany      EUR  \nUK           GBP  ",
      "text/html": "<div>\n<style scoped>\n    .dataframe tbody tr th:only-of-type {\n        vertical-align: middle;\n    }\n\n    .dataframe tbody tr th {\n        vertical-align: top;\n    }\n\n    .dataframe thead th {\n        text-align: right;\n    }\n</style>\n<table border=\"1\" class=\"dataframe\">\n  <thead>\n    <tr style=\"text-align: right;\">\n      <th></th>\n      <th>population</th>\n      <th>area</th>\n      <th>capital</th>\n      <th>density</th>\n      <th>gdp_per_capita</th>\n      <th>gdp</th>\n      <th>currency</th>\n    </tr>\n    <tr>\n      <th>country</th>\n      <th></th>\n      <th></th>\n      <th></th>\n      <th></th>\n      <th></th>\n      <th></th>\n      <th></th>\n    </tr>\n  </thead>\n  <tbody>\n    <tr>\n      <th>China</th>\n      <td>100</td>\n      <td>1000</td>\n      <td>Beijing</td>\n      <td>100</td>\n      <td>10000</td>\n      <td>1000000</td>\n      <td>CNY</td>\n    </tr>\n    <tr>\n      <th>USA</th>\n      <td>200</td>\n      <td>2000</td>\n      <td>Washington</td>\n      <td>200</td>\n      <td>50000</td>\n      <td>10000000</td>\n      <td>USD</td>\n    </tr>\n    <tr>\n      <th>Japan</th>\n      <td>300</td>\n      <td>3000</td>\n      <td>Tokyo</td>\n      <td>300</td>\n      <td>40000</td>\n      <td>12000000</td>\n      <td>JPY</td>\n    </tr>\n    <tr>\n      <th>Germany</th>\n      <td>400</td>\n      <td>4000</td>\n      <td>Berlin</td>\n      <td>100</td>\n      <td>60000</td>\n      <td>24000000</td>\n      <td>EUR</td>\n    </tr>\n    <tr>\n      <th>UK</th>\n      <td>500</td>\n      <td>5000</td>\n      <td>London</td>\n      <td>100</td>\n      <td>45000</td>\n      <td>22500000</td>\n      <td>GBP</td>\n    </tr>\n  </tbody>\n</table>\n</div>"
     },
     "execution_count": 47,
     "metadata": {},
     "output_type": "execute_result"
    }
   ],
   "source": [
    "countries"
   ],
   "metadata": {
    "collapsed": false,
    "ExecuteTime": {
     "end_time": "2024-05-20T17:43:36.684679Z",
     "start_time": "2024-05-20T17:43:36.679707Z"
    }
   },
   "id": "9690776f8fb4ff48",
   "execution_count": 47
  },
  {
   "cell_type": "code",
   "outputs": [
    {
     "data": {
      "text/plain": "         population  area     capital  density  gdp_per_capita       gdp  \\\ncountry                                                                    \nUK              500  5000      London      100           45000  22500000   \nGermany         400  4000      Berlin      100           60000  24000000   \nJapan           300  3000       Tokyo      300           40000  12000000   \nUSA             200  2000  Washington      200           50000  10000000   \nChina           100  1000     Beijing      100           10000   1000000   \n\n        currency  \ncountry           \nUK           GBP  \nGermany      EUR  \nJapan        JPY  \nUSA          USD  \nChina        CNY  ",
      "text/html": "<div>\n<style scoped>\n    .dataframe tbody tr th:only-of-type {\n        vertical-align: middle;\n    }\n\n    .dataframe tbody tr th {\n        vertical-align: top;\n    }\n\n    .dataframe thead th {\n        text-align: right;\n    }\n</style>\n<table border=\"1\" class=\"dataframe\">\n  <thead>\n    <tr style=\"text-align: right;\">\n      <th></th>\n      <th>population</th>\n      <th>area</th>\n      <th>capital</th>\n      <th>density</th>\n      <th>gdp_per_capita</th>\n      <th>gdp</th>\n      <th>currency</th>\n    </tr>\n    <tr>\n      <th>country</th>\n      <th></th>\n      <th></th>\n      <th></th>\n      <th></th>\n      <th></th>\n      <th></th>\n      <th></th>\n    </tr>\n  </thead>\n  <tbody>\n    <tr>\n      <th>UK</th>\n      <td>500</td>\n      <td>5000</td>\n      <td>London</td>\n      <td>100</td>\n      <td>45000</td>\n      <td>22500000</td>\n      <td>GBP</td>\n    </tr>\n    <tr>\n      <th>Germany</th>\n      <td>400</td>\n      <td>4000</td>\n      <td>Berlin</td>\n      <td>100</td>\n      <td>60000</td>\n      <td>24000000</td>\n      <td>EUR</td>\n    </tr>\n    <tr>\n      <th>Japan</th>\n      <td>300</td>\n      <td>3000</td>\n      <td>Tokyo</td>\n      <td>300</td>\n      <td>40000</td>\n      <td>12000000</td>\n      <td>JPY</td>\n    </tr>\n    <tr>\n      <th>USA</th>\n      <td>200</td>\n      <td>2000</td>\n      <td>Washington</td>\n      <td>200</td>\n      <td>50000</td>\n      <td>10000000</td>\n      <td>USD</td>\n    </tr>\n    <tr>\n      <th>China</th>\n      <td>100</td>\n      <td>1000</td>\n      <td>Beijing</td>\n      <td>100</td>\n      <td>10000</td>\n      <td>1000000</td>\n      <td>CNY</td>\n    </tr>\n  </tbody>\n</table>\n</div>"
     },
     "execution_count": 48,
     "metadata": {},
     "output_type": "execute_result"
    }
   ],
   "source": [
    "# 2.7 Sorting\n",
    "countries.sort_values(by='population', ascending=False)"
   ],
   "metadata": {
    "collapsed": false,
    "ExecuteTime": {
     "end_time": "2024-05-20T17:43:49.628445Z",
     "start_time": "2024-05-20T17:43:49.622759Z"
    }
   },
   "id": "5d0f869f8c3d82fe",
   "execution_count": 48
  },
  {
   "cell_type": "code",
   "outputs": [
    {
     "data": {
      "text/plain": "'{\"population\":{\"China\":100,\"USA\":200,\"Japan\":300,\"Germany\":400,\"UK\":500},\"area\":{\"China\":1000,\"USA\":2000,\"Japan\":3000,\"Germany\":4000,\"UK\":5000},\"capital\":{\"China\":\"Beijing\",\"USA\":\"Washington\",\"Japan\":\"Tokyo\",\"Germany\":\"Berlin\",\"UK\":\"London\"},\"density\":{\"China\":100,\"USA\":200,\"Japan\":300,\"Germany\":100,\"UK\":100},\"gdp_per_capita\":{\"China\":10000,\"USA\":50000,\"Japan\":40000,\"Germany\":60000,\"UK\":45000},\"gdp\":{\"China\":1000000,\"USA\":10000000,\"Japan\":12000000,\"Germany\":24000000,\"UK\":22500000},\"currency\":{\"China\":\"CNY\",\"USA\":\"USD\",\"Japan\":\"JPY\",\"Germany\":\"EUR\",\"UK\":\"GBP\"}}'"
     },
     "execution_count": 49,
     "metadata": {},
     "output_type": "execute_result"
    }
   ],
   "source": [
    "# 2.8 Convert to other formats\n",
    "# 2.8.1 JSON\n",
    "countries.to_json()"
   ],
   "metadata": {
    "collapsed": false,
    "ExecuteTime": {
     "end_time": "2024-05-20T17:45:22.677365Z",
     "start_time": "2024-05-20T17:45:22.674426Z"
    }
   },
   "id": "fc681a14b528b53a",
   "execution_count": 49
  },
  {
   "cell_type": "code",
   "outputs": [
    {
     "data": {
      "text/plain": "'country,population,area,capital,density,gdp_per_capita,gdp,currency\\nChina,100,1000,Beijing,100,10000,1000000,CNY\\nUSA,200,2000,Washington,200,50000,10000000,USD\\nJapan,300,3000,Tokyo,300,40000,12000000,JPY\\nGermany,400,4000,Berlin,100,60000,24000000,EUR\\nUK,500,5000,London,100,45000,22500000,GBP\\n'"
     },
     "execution_count": 50,
     "metadata": {},
     "output_type": "execute_result"
    }
   ],
   "source": [
    "countries.to_csv()"
   ],
   "metadata": {
    "collapsed": false,
    "ExecuteTime": {
     "end_time": "2024-05-20T17:45:32.491989Z",
     "start_time": "2024-05-20T17:45:32.488309Z"
    }
   },
   "id": "8a32733c589b01c0",
   "execution_count": 50
  },
  {
   "cell_type": "code",
   "outputs": [],
   "source": [
    "countries.to_excel(\"countries.xlsx\")"
   ],
   "metadata": {
    "collapsed": false,
    "ExecuteTime": {
     "end_time": "2024-05-20T17:46:06.259144Z",
     "start_time": "2024-05-20T17:46:06.192552Z"
    }
   },
   "id": "e747c72036e0a24a",
   "execution_count": 53
  },
  {
   "cell_type": "code",
   "outputs": [],
   "source": [
    "# 2.9 Read data from different sources\n",
    "# SQL"
   ],
   "metadata": {
    "collapsed": false
   },
   "id": "c2fdc11cd4cff5c7"
  },
  {
   "cell_type": "code",
   "outputs": [],
   "source": [
    "# Mysql"
   ],
   "metadata": {
    "collapsed": false
   },
   "id": "450b78e8969d0f51"
  },
  {
   "cell_type": "code",
   "outputs": [
    {
     "data": {
      "text/plain": "        id         name  price\n0        1   Product 78   78.0\n1        2   Product 64   64.0\n2        3    Product 0    0.0\n3        4   Product 68   68.0\n4        5   Product 74   74.0\n...    ...          ...    ...\n997    998  Product 967  967.0\n998    999  Product 945  945.0\n999   1000  Product 932  932.0\n1000  1001         Test  100.0\n1001  1002         Test  100.0\n\n[1002 rows x 3 columns]",
      "text/html": "<div>\n<style scoped>\n    .dataframe tbody tr th:only-of-type {\n        vertical-align: middle;\n    }\n\n    .dataframe tbody tr th {\n        vertical-align: top;\n    }\n\n    .dataframe thead th {\n        text-align: right;\n    }\n</style>\n<table border=\"1\" class=\"dataframe\">\n  <thead>\n    <tr style=\"text-align: right;\">\n      <th></th>\n      <th>id</th>\n      <th>name</th>\n      <th>price</th>\n    </tr>\n  </thead>\n  <tbody>\n    <tr>\n      <th>0</th>\n      <td>1</td>\n      <td>Product 78</td>\n      <td>78.0</td>\n    </tr>\n    <tr>\n      <th>1</th>\n      <td>2</td>\n      <td>Product 64</td>\n      <td>64.0</td>\n    </tr>\n    <tr>\n      <th>2</th>\n      <td>3</td>\n      <td>Product 0</td>\n      <td>0.0</td>\n    </tr>\n    <tr>\n      <th>3</th>\n      <td>4</td>\n      <td>Product 68</td>\n      <td>68.0</td>\n    </tr>\n    <tr>\n      <th>4</th>\n      <td>5</td>\n      <td>Product 74</td>\n      <td>74.0</td>\n    </tr>\n    <tr>\n      <th>...</th>\n      <td>...</td>\n      <td>...</td>\n      <td>...</td>\n    </tr>\n    <tr>\n      <th>997</th>\n      <td>998</td>\n      <td>Product 967</td>\n      <td>967.0</td>\n    </tr>\n    <tr>\n      <th>998</th>\n      <td>999</td>\n      <td>Product 945</td>\n      <td>945.0</td>\n    </tr>\n    <tr>\n      <th>999</th>\n      <td>1000</td>\n      <td>Product 932</td>\n      <td>932.0</td>\n    </tr>\n    <tr>\n      <th>1000</th>\n      <td>1001</td>\n      <td>Test</td>\n      <td>100.0</td>\n    </tr>\n    <tr>\n      <th>1001</th>\n      <td>1002</td>\n      <td>Test</td>\n      <td>100.0</td>\n    </tr>\n  </tbody>\n</table>\n<p>1002 rows × 3 columns</p>\n</div>"
     },
     "execution_count": 55,
     "metadata": {},
     "output_type": "execute_result"
    }
   ],
   "source": [
    "from sqlalchemy import create_engine\n",
    "connection_string = 'mysql+mysqlconnector://root@localhost:3306/hillelfastapi3'\n",
    "engine = create_engine(connection_string)\n",
    "\n",
    "query = \"select * from products\"\n",
    "products = pd.read_sql(query, engine)\n",
    "\n",
    "products"
   ],
   "metadata": {
    "collapsed": false,
    "ExecuteTime": {
     "end_time": "2024-05-20T17:49:26.555193Z",
     "start_time": "2024-05-20T17:49:26.409047Z"
    }
   },
   "id": "55b5c6c21d01b00d",
   "execution_count": 55
  },
  {
   "cell_type": "code",
   "outputs": [],
   "source": [
    "products.to_html(\"products.html\")"
   ],
   "metadata": {
    "collapsed": false,
    "ExecuteTime": {
     "end_time": "2024-05-20T17:49:57.997062Z",
     "start_time": "2024-05-20T17:49:57.974110Z"
    }
   },
   "id": "6ee864ed18344728",
   "execution_count": 56
  },
  {
   "cell_type": "code",
   "outputs": [],
   "source": [
    "products.to_clipboard()"
   ],
   "metadata": {
    "collapsed": false,
    "ExecuteTime": {
     "end_time": "2024-05-20T17:50:37.290489Z",
     "start_time": "2024-05-20T17:50:37.266751Z"
    }
   },
   "id": "cf283f35c6466504",
   "execution_count": 57
  },
  {
   "cell_type": "code",
   "outputs": [],
   "source": [
    "# 2.10 Grouping\n",
    "cars = {\n",
    "    \"brand\": [\"Ford\", \"Toyota\", \"Ford\", \"Toyota\", \"Ford\", \"Toyota\"],\n",
    "    \"model\": [\"Mustang\", \"Prius\", \"Fiesta\", \"Corolla\", \"Focus\", \"Yaris\"],\n",
    "    \"year\": [2018, 2018, 2018, 2019, 2019, 2019],\n",
    "    \"price\": [50000, 30000, 20000, 40000, 25000, 35000],\n",
    "    \"number\": [\"ВК8888AA\", \"ВК9999AA\", \"ВК7777AA\", \"ВК6666AA\", \"ВК5555AA\", \"ВК4444AA\"]\n",
    "}\n",
    "cars_df = pd.DataFrame(cars)"
   ],
   "metadata": {
    "collapsed": false,
    "ExecuteTime": {
     "end_time": "2024-05-20T18:04:27.991821Z",
     "start_time": "2024-05-20T18:04:27.987802Z"
    }
   },
   "id": "6c17a2e07349278f",
   "execution_count": 90
  },
  {
   "cell_type": "code",
   "outputs": [
    {
     "data": {
      "text/plain": "    brand    model  year  price    number\n0    Ford  Mustang  2018  50000  ВК8888AA\n1  Toyota    Prius  2018  30000  ВК9999AA\n2    Ford   Fiesta  2018  20000  ВК7777AA\n3  Toyota  Corolla  2019  40000  ВК6666AA\n4    Ford    Focus  2019  25000  ВК5555AA\n5  Toyota    Yaris  2019  35000  ВК4444AA",
      "text/html": "<div>\n<style scoped>\n    .dataframe tbody tr th:only-of-type {\n        vertical-align: middle;\n    }\n\n    .dataframe tbody tr th {\n        vertical-align: top;\n    }\n\n    .dataframe thead th {\n        text-align: right;\n    }\n</style>\n<table border=\"1\" class=\"dataframe\">\n  <thead>\n    <tr style=\"text-align: right;\">\n      <th></th>\n      <th>brand</th>\n      <th>model</th>\n      <th>year</th>\n      <th>price</th>\n      <th>number</th>\n    </tr>\n  </thead>\n  <tbody>\n    <tr>\n      <th>0</th>\n      <td>Ford</td>\n      <td>Mustang</td>\n      <td>2018</td>\n      <td>50000</td>\n      <td>ВК8888AA</td>\n    </tr>\n    <tr>\n      <th>1</th>\n      <td>Toyota</td>\n      <td>Prius</td>\n      <td>2018</td>\n      <td>30000</td>\n      <td>ВК9999AA</td>\n    </tr>\n    <tr>\n      <th>2</th>\n      <td>Ford</td>\n      <td>Fiesta</td>\n      <td>2018</td>\n      <td>20000</td>\n      <td>ВК7777AA</td>\n    </tr>\n    <tr>\n      <th>3</th>\n      <td>Toyota</td>\n      <td>Corolla</td>\n      <td>2019</td>\n      <td>40000</td>\n      <td>ВК6666AA</td>\n    </tr>\n    <tr>\n      <th>4</th>\n      <td>Ford</td>\n      <td>Focus</td>\n      <td>2019</td>\n      <td>25000</td>\n      <td>ВК5555AA</td>\n    </tr>\n    <tr>\n      <th>5</th>\n      <td>Toyota</td>\n      <td>Yaris</td>\n      <td>2019</td>\n      <td>35000</td>\n      <td>ВК4444AA</td>\n    </tr>\n  </tbody>\n</table>\n</div>"
     },
     "execution_count": 91,
     "metadata": {},
     "output_type": "execute_result"
    }
   ],
   "source": [
    "cars_df"
   ],
   "metadata": {
    "collapsed": false,
    "ExecuteTime": {
     "end_time": "2024-05-20T18:04:29.887850Z",
     "start_time": "2024-05-20T18:04:29.882916Z"
    }
   },
   "id": "9367b7fd92c85aad",
   "execution_count": 91
  },
  {
   "cell_type": "code",
   "outputs": [
    {
     "data": {
      "text/plain": "brand\nFord      31666.666667\nToyota    35000.000000\nName: price, dtype: float64"
     },
     "execution_count": 62,
     "metadata": {},
     "output_type": "execute_result"
    }
   ],
   "source": [
    "cars_df.groupby('brand')['price'].mean()"
   ],
   "metadata": {
    "collapsed": false,
    "ExecuteTime": {
     "end_time": "2024-05-20T17:52:49.152544Z",
     "start_time": "2024-05-20T17:52:49.146860Z"
    }
   },
   "id": "a1723aac090870e2",
   "execution_count": 62
  },
  {
   "cell_type": "code",
   "outputs": [
    {
     "data": {
      "text/plain": "year\n2018    50000\n2019    40000\nName: price, dtype: int64"
     },
     "execution_count": 63,
     "metadata": {},
     "output_type": "execute_result"
    }
   ],
   "source": [
    "cars_df.groupby('year')['price'].max()"
   ],
   "metadata": {
    "collapsed": false,
    "ExecuteTime": {
     "end_time": "2024-05-20T17:53:23.026976Z",
     "start_time": "2024-05-20T17:53:23.022146Z"
    }
   },
   "id": "c7106db35be4359f",
   "execution_count": 63
  },
  {
   "cell_type": "code",
   "outputs": [],
   "source": [
    "grouped_df = cars_df.groupby(['brand', 'year'])['price'].mean()"
   ],
   "metadata": {
    "collapsed": false,
    "ExecuteTime": {
     "end_time": "2024-05-20T17:54:27.558585Z",
     "start_time": "2024-05-20T17:54:27.554995Z"
    }
   },
   "id": "af8bf7ea7549cde0",
   "execution_count": 65
  },
  {
   "cell_type": "code",
   "outputs": [
    {
     "data": {
      "text/plain": "year\n2018    35000.0\n2019    25000.0\nName: price, dtype: float64"
     },
     "execution_count": 71,
     "metadata": {},
     "output_type": "execute_result"
    }
   ],
   "source": [
    "grouped_df['Ford']"
   ],
   "metadata": {
    "collapsed": false,
    "ExecuteTime": {
     "end_time": "2024-05-20T17:57:07.100430Z",
     "start_time": "2024-05-20T17:57:07.096697Z"
    }
   },
   "id": "f3ae57b95cbbbf25",
   "execution_count": 71
  },
  {
   "cell_type": "code",
   "outputs": [
    {
     "data": {
      "text/plain": "brand  year\nFord   2018    35000.0\n       2019    25000.0\nName: price, dtype: float64"
     },
     "execution_count": 80,
     "metadata": {},
     "output_type": "execute_result"
    }
   ],
   "source": [
    "ford_df = grouped_df[['Ford']]\n",
    "# ford_df = ford_df[\"Ford\"]\n",
    "ford_df"
   ],
   "metadata": {
    "collapsed": false,
    "ExecuteTime": {
     "end_time": "2024-05-20T17:59:49.664989Z",
     "start_time": "2024-05-20T17:59:49.660063Z"
    }
   },
   "id": "74cb74a1125b3260",
   "execution_count": 80
  },
  {
   "cell_type": "code",
   "outputs": [
    {
     "data": {
      "text/plain": "32500.0"
     },
     "execution_count": 70,
     "metadata": {},
     "output_type": "execute_result"
    }
   ],
   "source": [
    "cars_df['price'].median()"
   ],
   "metadata": {
    "collapsed": false,
    "ExecuteTime": {
     "end_time": "2024-05-20T17:55:38.865962Z",
     "start_time": "2024-05-20T17:55:38.861199Z"
    }
   },
   "id": "baecb95c271c8e8a",
   "execution_count": 70
  },
  {
   "cell_type": "code",
   "outputs": [
    {
     "data": {
      "text/plain": "year    2018  2019\nbrand             \nFord       2     1\nToyota     1     2",
      "text/html": "<div>\n<style scoped>\n    .dataframe tbody tr th:only-of-type {\n        vertical-align: middle;\n    }\n\n    .dataframe tbody tr th {\n        vertical-align: top;\n    }\n\n    .dataframe thead th {\n        text-align: right;\n    }\n</style>\n<table border=\"1\" class=\"dataframe\">\n  <thead>\n    <tr style=\"text-align: right;\">\n      <th>year</th>\n      <th>2018</th>\n      <th>2019</th>\n    </tr>\n    <tr>\n      <th>brand</th>\n      <th></th>\n      <th></th>\n    </tr>\n  </thead>\n  <tbody>\n    <tr>\n      <th>Ford</th>\n      <td>2</td>\n      <td>1</td>\n    </tr>\n    <tr>\n      <th>Toyota</th>\n      <td>1</td>\n      <td>2</td>\n    </tr>\n  </tbody>\n</table>\n</div>"
     },
     "execution_count": 86,
     "metadata": {},
     "output_type": "execute_result"
    }
   ],
   "source": [
    "# 2.11 Pivot\n",
    "cars_df.pivot_table(index='brand', columns='year', values='price', aggfunc='count')"
   ],
   "metadata": {
    "collapsed": false,
    "ExecuteTime": {
     "end_time": "2024-05-20T18:02:00.383902Z",
     "start_time": "2024-05-20T18:02:00.376188Z"
    }
   },
   "id": "95a0828491943eb9",
   "execution_count": 86
  },
  {
   "cell_type": "code",
   "outputs": [],
   "source": [
    "# 2.12 Merge\n",
    "dealers = {\n",
    "    \"brand\": [\"Ford\", \"Toyota\", \"Ford\", \"Toyota\"],\n",
    "    \"dealer\": [\"Ford Kiev\", \"Toyota Kiev\", \"Ford Lviv\", \"Toyota Lviv\"]\n",
    "}\n",
    "dealers_df = pd.DataFrame(dealers)"
   ],
   "metadata": {
    "collapsed": false,
    "ExecuteTime": {
     "end_time": "2024-05-20T18:02:48.887799Z",
     "start_time": "2024-05-20T18:02:48.885313Z"
    }
   },
   "id": "58dc53481846b30",
   "execution_count": 87
  },
  {
   "cell_type": "code",
   "outputs": [
    {
     "data": {
      "text/plain": "     brand    model  year  price       dealer\n0     Ford  Mustang  2018  50000    Ford Kiev\n1     Ford  Mustang  2018  50000    Ford Lviv\n2   Toyota    Prius  2018  30000  Toyota Kiev\n3   Toyota    Prius  2018  30000  Toyota Lviv\n4     Ford   Fiesta  2018  20000    Ford Kiev\n5     Ford   Fiesta  2018  20000    Ford Lviv\n6   Toyota  Corolla  2019  40000  Toyota Kiev\n7   Toyota  Corolla  2019  40000  Toyota Lviv\n8     Ford    Focus  2019  25000    Ford Kiev\n9     Ford    Focus  2019  25000    Ford Lviv\n10  Toyota    Yaris  2019  35000  Toyota Kiev\n11  Toyota    Yaris  2019  35000  Toyota Lviv",
      "text/html": "<div>\n<style scoped>\n    .dataframe tbody tr th:only-of-type {\n        vertical-align: middle;\n    }\n\n    .dataframe tbody tr th {\n        vertical-align: top;\n    }\n\n    .dataframe thead th {\n        text-align: right;\n    }\n</style>\n<table border=\"1\" class=\"dataframe\">\n  <thead>\n    <tr style=\"text-align: right;\">\n      <th></th>\n      <th>brand</th>\n      <th>model</th>\n      <th>year</th>\n      <th>price</th>\n      <th>dealer</th>\n    </tr>\n  </thead>\n  <tbody>\n    <tr>\n      <th>0</th>\n      <td>Ford</td>\n      <td>Mustang</td>\n      <td>2018</td>\n      <td>50000</td>\n      <td>Ford Kiev</td>\n    </tr>\n    <tr>\n      <th>1</th>\n      <td>Ford</td>\n      <td>Mustang</td>\n      <td>2018</td>\n      <td>50000</td>\n      <td>Ford Lviv</td>\n    </tr>\n    <tr>\n      <th>2</th>\n      <td>Toyota</td>\n      <td>Prius</td>\n      <td>2018</td>\n      <td>30000</td>\n      <td>Toyota Kiev</td>\n    </tr>\n    <tr>\n      <th>3</th>\n      <td>Toyota</td>\n      <td>Prius</td>\n      <td>2018</td>\n      <td>30000</td>\n      <td>Toyota Lviv</td>\n    </tr>\n    <tr>\n      <th>4</th>\n      <td>Ford</td>\n      <td>Fiesta</td>\n      <td>2018</td>\n      <td>20000</td>\n      <td>Ford Kiev</td>\n    </tr>\n    <tr>\n      <th>5</th>\n      <td>Ford</td>\n      <td>Fiesta</td>\n      <td>2018</td>\n      <td>20000</td>\n      <td>Ford Lviv</td>\n    </tr>\n    <tr>\n      <th>6</th>\n      <td>Toyota</td>\n      <td>Corolla</td>\n      <td>2019</td>\n      <td>40000</td>\n      <td>Toyota Kiev</td>\n    </tr>\n    <tr>\n      <th>7</th>\n      <td>Toyota</td>\n      <td>Corolla</td>\n      <td>2019</td>\n      <td>40000</td>\n      <td>Toyota Lviv</td>\n    </tr>\n    <tr>\n      <th>8</th>\n      <td>Ford</td>\n      <td>Focus</td>\n      <td>2019</td>\n      <td>25000</td>\n      <td>Ford Kiev</td>\n    </tr>\n    <tr>\n      <th>9</th>\n      <td>Ford</td>\n      <td>Focus</td>\n      <td>2019</td>\n      <td>25000</td>\n      <td>Ford Lviv</td>\n    </tr>\n    <tr>\n      <th>10</th>\n      <td>Toyota</td>\n      <td>Yaris</td>\n      <td>2019</td>\n      <td>35000</td>\n      <td>Toyota Kiev</td>\n    </tr>\n    <tr>\n      <th>11</th>\n      <td>Toyota</td>\n      <td>Yaris</td>\n      <td>2019</td>\n      <td>35000</td>\n      <td>Toyota Lviv</td>\n    </tr>\n  </tbody>\n</table>\n</div>"
     },
     "execution_count": 89,
     "metadata": {},
     "output_type": "execute_result"
    }
   ],
   "source": [
    "cars_df.merge(dealers_df, on='brand', how='left')"
   ],
   "metadata": {
    "collapsed": false,
    "ExecuteTime": {
     "end_time": "2024-05-20T18:03:45.128689Z",
     "start_time": "2024-05-20T18:03:45.121210Z"
    }
   },
   "id": "324c8053baa20f58",
   "execution_count": 89
  },
  {
   "cell_type": "code",
   "outputs": [],
   "source": [
    "colors = {\n",
    "    \"number\": [\"ВК8888AA\", \"ВК9999AA\", \"ВК7777AA\", \"ВК6666AA\", \"ВК5555AA\", \"ВН1111ВВ\"],\n",
    "    \"color\": [\"red\", \"blue\", \"green\", \"yellow\", \"black\", \"white\"]\n",
    "}"
   ],
   "metadata": {
    "collapsed": false,
    "ExecuteTime": {
     "end_time": "2024-05-20T18:06:11.141183Z",
     "start_time": "2024-05-20T18:06:11.138832Z"
    }
   },
   "id": "58003c4df98d215a",
   "execution_count": 100
  },
  {
   "cell_type": "code",
   "outputs": [],
   "source": [
    "colors_df = pd.DataFrame(colors)"
   ],
   "metadata": {
    "collapsed": false,
    "ExecuteTime": {
     "end_time": "2024-05-20T18:06:13.507902Z",
     "start_time": "2024-05-20T18:06:13.505249Z"
    }
   },
   "id": "2bda1bcb687d620",
   "execution_count": 101
  },
  {
   "cell_type": "code",
   "outputs": [],
   "source": [
    "full_df = cars_df.merge(colors_df, on='number', how='outer')"
   ],
   "metadata": {
    "collapsed": false,
    "ExecuteTime": {
     "end_time": "2024-05-20T18:06:54.264443Z",
     "start_time": "2024-05-20T18:06:54.259465Z"
    }
   },
   "id": "a679d583469db052",
   "execution_count": 105
  },
  {
   "cell_type": "code",
   "outputs": [
    {
     "data": {
      "text/plain": "    brand    model    year    price    number   color\n0  Toyota    Yaris  2019.0  35000.0  ВК4444AA     NaN\n1    Ford    Focus  2019.0  25000.0  ВК5555AA   black\n2  Toyota  Corolla  2019.0  40000.0  ВК6666AA  yellow\n3    Ford   Fiesta  2018.0  20000.0  ВК7777AA   green\n4    Ford  Mustang  2018.0  50000.0  ВК8888AA     red\n5  Toyota    Prius  2018.0  30000.0  ВК9999AA    blue\n6     NaN      NaN     NaN      NaN  ВН1111ВВ   white",
      "text/html": "<div>\n<style scoped>\n    .dataframe tbody tr th:only-of-type {\n        vertical-align: middle;\n    }\n\n    .dataframe tbody tr th {\n        vertical-align: top;\n    }\n\n    .dataframe thead th {\n        text-align: right;\n    }\n</style>\n<table border=\"1\" class=\"dataframe\">\n  <thead>\n    <tr style=\"text-align: right;\">\n      <th></th>\n      <th>brand</th>\n      <th>model</th>\n      <th>year</th>\n      <th>price</th>\n      <th>number</th>\n      <th>color</th>\n    </tr>\n  </thead>\n  <tbody>\n    <tr>\n      <th>0</th>\n      <td>Toyota</td>\n      <td>Yaris</td>\n      <td>2019.0</td>\n      <td>35000.0</td>\n      <td>ВК4444AA</td>\n      <td>NaN</td>\n    </tr>\n    <tr>\n      <th>1</th>\n      <td>Ford</td>\n      <td>Focus</td>\n      <td>2019.0</td>\n      <td>25000.0</td>\n      <td>ВК5555AA</td>\n      <td>black</td>\n    </tr>\n    <tr>\n      <th>2</th>\n      <td>Toyota</td>\n      <td>Corolla</td>\n      <td>2019.0</td>\n      <td>40000.0</td>\n      <td>ВК6666AA</td>\n      <td>yellow</td>\n    </tr>\n    <tr>\n      <th>3</th>\n      <td>Ford</td>\n      <td>Fiesta</td>\n      <td>2018.0</td>\n      <td>20000.0</td>\n      <td>ВК7777AA</td>\n      <td>green</td>\n    </tr>\n    <tr>\n      <th>4</th>\n      <td>Ford</td>\n      <td>Mustang</td>\n      <td>2018.0</td>\n      <td>50000.0</td>\n      <td>ВК8888AA</td>\n      <td>red</td>\n    </tr>\n    <tr>\n      <th>5</th>\n      <td>Toyota</td>\n      <td>Prius</td>\n      <td>2018.0</td>\n      <td>30000.0</td>\n      <td>ВК9999AA</td>\n      <td>blue</td>\n    </tr>\n    <tr>\n      <th>6</th>\n      <td>NaN</td>\n      <td>NaN</td>\n      <td>NaN</td>\n      <td>NaN</td>\n      <td>ВН1111ВВ</td>\n      <td>white</td>\n    </tr>\n  </tbody>\n</table>\n</div>"
     },
     "execution_count": 104,
     "metadata": {},
     "output_type": "execute_result"
    }
   ],
   "source": [
    "full_df"
   ],
   "metadata": {
    "collapsed": false,
    "ExecuteTime": {
     "end_time": "2024-05-20T18:06:35.557880Z",
     "start_time": "2024-05-20T18:06:35.552519Z"
    }
   },
   "id": "ca1a7d6e7eb9ccf3",
   "execution_count": 104
  },
  {
   "cell_type": "code",
   "outputs": [],
   "source": [
    "additional_cars = {\n",
    "    \"brand\": [\"Volkswagen\", \"Volkswagen\"],\n",
    "    \"model\": [\"Golf\", \"Passat\"],\n",
    "    \"year\": [2018, 2019],\n",
    "    \"price\": [30000, 40000],\n",
    "    \"number\": [\"AA1111AA\", \"AA2222AA\"],\n",
    "    \"color\": [\"gray\", \"silver\"]\n",
    "}\n",
    "additional_cars_df = pd.DataFrame(additional_cars)"
   ],
   "metadata": {
    "collapsed": false,
    "ExecuteTime": {
     "end_time": "2024-05-20T18:08:40.888269Z",
     "start_time": "2024-05-20T18:08:40.885524Z"
    }
   },
   "id": "1570fac0ab04b95d",
   "execution_count": 106
  },
  {
   "cell_type": "code",
   "outputs": [],
   "source": [],
   "metadata": {
    "collapsed": false,
    "ExecuteTime": {
     "end_time": "2024-05-20T18:08:59.912996Z",
     "start_time": "2024-05-20T18:08:59.911362Z"
    }
   },
   "id": "9688cb25a7446e5a",
   "execution_count": 106
  },
  {
   "cell_type": "code",
   "outputs": [],
   "source": [
    "full_df = pd.concat([full_df, additional_cars_df])"
   ],
   "metadata": {
    "collapsed": false,
    "ExecuteTime": {
     "end_time": "2024-05-20T18:09:08.503138Z",
     "start_time": "2024-05-20T18:09:08.500230Z"
    }
   },
   "id": "303ad1e89d8d8c75",
   "execution_count": 107
  },
  {
   "cell_type": "code",
   "outputs": [
    {
     "data": {
      "text/plain": "        brand    model    year    price    number   color\n0      Toyota    Yaris  2019.0  35000.0  ВК4444AA     NaN\n1        Ford    Focus  2019.0  25000.0  ВК5555AA   black\n2      Toyota  Corolla  2019.0  40000.0  ВК6666AA  yellow\n3        Ford   Fiesta  2018.0  20000.0  ВК7777AA   green\n4        Ford  Mustang  2018.0  50000.0  ВК8888AA     red\n5      Toyota    Prius  2018.0  30000.0  ВК9999AA    blue\n6         NaN      NaN     NaN      NaN  ВН1111ВВ   white\n0  Volkswagen     Golf  2018.0  30000.0  AA1111AA    gray\n1  Volkswagen   Passat  2019.0  40000.0  AA2222AA  silver",
      "text/html": "<div>\n<style scoped>\n    .dataframe tbody tr th:only-of-type {\n        vertical-align: middle;\n    }\n\n    .dataframe tbody tr th {\n        vertical-align: top;\n    }\n\n    .dataframe thead th {\n        text-align: right;\n    }\n</style>\n<table border=\"1\" class=\"dataframe\">\n  <thead>\n    <tr style=\"text-align: right;\">\n      <th></th>\n      <th>brand</th>\n      <th>model</th>\n      <th>year</th>\n      <th>price</th>\n      <th>number</th>\n      <th>color</th>\n    </tr>\n  </thead>\n  <tbody>\n    <tr>\n      <th>0</th>\n      <td>Toyota</td>\n      <td>Yaris</td>\n      <td>2019.0</td>\n      <td>35000.0</td>\n      <td>ВК4444AA</td>\n      <td>NaN</td>\n    </tr>\n    <tr>\n      <th>1</th>\n      <td>Ford</td>\n      <td>Focus</td>\n      <td>2019.0</td>\n      <td>25000.0</td>\n      <td>ВК5555AA</td>\n      <td>black</td>\n    </tr>\n    <tr>\n      <th>2</th>\n      <td>Toyota</td>\n      <td>Corolla</td>\n      <td>2019.0</td>\n      <td>40000.0</td>\n      <td>ВК6666AA</td>\n      <td>yellow</td>\n    </tr>\n    <tr>\n      <th>3</th>\n      <td>Ford</td>\n      <td>Fiesta</td>\n      <td>2018.0</td>\n      <td>20000.0</td>\n      <td>ВК7777AA</td>\n      <td>green</td>\n    </tr>\n    <tr>\n      <th>4</th>\n      <td>Ford</td>\n      <td>Mustang</td>\n      <td>2018.0</td>\n      <td>50000.0</td>\n      <td>ВК8888AA</td>\n      <td>red</td>\n    </tr>\n    <tr>\n      <th>5</th>\n      <td>Toyota</td>\n      <td>Prius</td>\n      <td>2018.0</td>\n      <td>30000.0</td>\n      <td>ВК9999AA</td>\n      <td>blue</td>\n    </tr>\n    <tr>\n      <th>6</th>\n      <td>NaN</td>\n      <td>NaN</td>\n      <td>NaN</td>\n      <td>NaN</td>\n      <td>ВН1111ВВ</td>\n      <td>white</td>\n    </tr>\n    <tr>\n      <th>0</th>\n      <td>Volkswagen</td>\n      <td>Golf</td>\n      <td>2018.0</td>\n      <td>30000.0</td>\n      <td>AA1111AA</td>\n      <td>gray</td>\n    </tr>\n    <tr>\n      <th>1</th>\n      <td>Volkswagen</td>\n      <td>Passat</td>\n      <td>2019.0</td>\n      <td>40000.0</td>\n      <td>AA2222AA</td>\n      <td>silver</td>\n    </tr>\n  </tbody>\n</table>\n</div>"
     },
     "execution_count": 108,
     "metadata": {},
     "output_type": "execute_result"
    }
   ],
   "source": [
    "full_df"
   ],
   "metadata": {
    "collapsed": false,
    "ExecuteTime": {
     "end_time": "2024-05-20T18:09:13.422147Z",
     "start_time": "2024-05-20T18:09:13.417123Z"
    }
   },
   "id": "2942030263505c9d",
   "execution_count": 108
  },
  {
   "cell_type": "code",
   "outputs": [],
   "source": [
    "# 2.13 Apply\n",
    "def get_region(number):\n",
    "    if number.startswith(\"ВК\"):\n",
    "        return \"Rivne\"\n",
    "    elif number.startswith(\"ВН\"):\n",
    "        return \"Odesa\"\n",
    "    else:\n",
    "        return \"Kyiv\"\n",
    "\n",
    "full_df['region'] = full_df['number'].apply(get_region)"
   ],
   "metadata": {
    "collapsed": false,
    "ExecuteTime": {
     "end_time": "2024-05-20T18:10:12.845734Z",
     "start_time": "2024-05-20T18:10:12.843092Z"
    }
   },
   "id": "97fe478d70fb747d",
   "execution_count": 109
  },
  {
   "cell_type": "code",
   "outputs": [
    {
     "data": {
      "text/plain": "        brand    model    year    price    number   color region\n0      Toyota    Yaris  2019.0  35000.0  ВК4444AA     NaN  Rivne\n1        Ford    Focus  2019.0  25000.0  ВК5555AA   black  Rivne\n2      Toyota  Corolla  2019.0  40000.0  ВК6666AA  yellow  Rivne\n3        Ford   Fiesta  2018.0  20000.0  ВК7777AA   green  Rivne\n4        Ford  Mustang  2018.0  50000.0  ВК8888AA     red  Rivne\n5      Toyota    Prius  2018.0  30000.0  ВК9999AA    blue  Rivne\n6         NaN      NaN     NaN      NaN  ВН1111ВВ   white  Odesa\n0  Volkswagen     Golf  2018.0  30000.0  AA1111AA    gray   Kyiv\n1  Volkswagen   Passat  2019.0  40000.0  AA2222AA  silver   Kyiv",
      "text/html": "<div>\n<style scoped>\n    .dataframe tbody tr th:only-of-type {\n        vertical-align: middle;\n    }\n\n    .dataframe tbody tr th {\n        vertical-align: top;\n    }\n\n    .dataframe thead th {\n        text-align: right;\n    }\n</style>\n<table border=\"1\" class=\"dataframe\">\n  <thead>\n    <tr style=\"text-align: right;\">\n      <th></th>\n      <th>brand</th>\n      <th>model</th>\n      <th>year</th>\n      <th>price</th>\n      <th>number</th>\n      <th>color</th>\n      <th>region</th>\n    </tr>\n  </thead>\n  <tbody>\n    <tr>\n      <th>0</th>\n      <td>Toyota</td>\n      <td>Yaris</td>\n      <td>2019.0</td>\n      <td>35000.0</td>\n      <td>ВК4444AA</td>\n      <td>NaN</td>\n      <td>Rivne</td>\n    </tr>\n    <tr>\n      <th>1</th>\n      <td>Ford</td>\n      <td>Focus</td>\n      <td>2019.0</td>\n      <td>25000.0</td>\n      <td>ВК5555AA</td>\n      <td>black</td>\n      <td>Rivne</td>\n    </tr>\n    <tr>\n      <th>2</th>\n      <td>Toyota</td>\n      <td>Corolla</td>\n      <td>2019.0</td>\n      <td>40000.0</td>\n      <td>ВК6666AA</td>\n      <td>yellow</td>\n      <td>Rivne</td>\n    </tr>\n    <tr>\n      <th>3</th>\n      <td>Ford</td>\n      <td>Fiesta</td>\n      <td>2018.0</td>\n      <td>20000.0</td>\n      <td>ВК7777AA</td>\n      <td>green</td>\n      <td>Rivne</td>\n    </tr>\n    <tr>\n      <th>4</th>\n      <td>Ford</td>\n      <td>Mustang</td>\n      <td>2018.0</td>\n      <td>50000.0</td>\n      <td>ВК8888AA</td>\n      <td>red</td>\n      <td>Rivne</td>\n    </tr>\n    <tr>\n      <th>5</th>\n      <td>Toyota</td>\n      <td>Prius</td>\n      <td>2018.0</td>\n      <td>30000.0</td>\n      <td>ВК9999AA</td>\n      <td>blue</td>\n      <td>Rivne</td>\n    </tr>\n    <tr>\n      <th>6</th>\n      <td>NaN</td>\n      <td>NaN</td>\n      <td>NaN</td>\n      <td>NaN</td>\n      <td>ВН1111ВВ</td>\n      <td>white</td>\n      <td>Odesa</td>\n    </tr>\n    <tr>\n      <th>0</th>\n      <td>Volkswagen</td>\n      <td>Golf</td>\n      <td>2018.0</td>\n      <td>30000.0</td>\n      <td>AA1111AA</td>\n      <td>gray</td>\n      <td>Kyiv</td>\n    </tr>\n    <tr>\n      <th>1</th>\n      <td>Volkswagen</td>\n      <td>Passat</td>\n      <td>2019.0</td>\n      <td>40000.0</td>\n      <td>AA2222AA</td>\n      <td>silver</td>\n      <td>Kyiv</td>\n    </tr>\n  </tbody>\n</table>\n</div>"
     },
     "execution_count": 110,
     "metadata": {},
     "output_type": "execute_result"
    }
   ],
   "source": [
    "full_df"
   ],
   "metadata": {
    "collapsed": false,
    "ExecuteTime": {
     "end_time": "2024-05-20T18:10:15.411869Z",
     "start_time": "2024-05-20T18:10:15.406656Z"
    }
   },
   "id": "58953c07acc362ca",
   "execution_count": 110
  },
  {
   "cell_type": "code",
   "outputs": [
    {
     "name": "stderr",
     "output_type": "stream",
     "text": [
      "Matplotlib is building the font cache; this may take a moment.\n"
     ]
    },
    {
     "data": {
      "text/plain": "<Axes: >"
     },
     "execution_count": 112,
     "metadata": {},
     "output_type": "execute_result"
    },
    {
     "data": {
      "text/plain": "<Figure size 640x480 with 1 Axes>",
      "image/png": "[encoded data removed]"
     },
     "metadata": {},
     "output_type": "display_data"
    }
   ],
   "source": [
    "# 2.14 Plotting\n",
    "full_df['price'].plot(kind='bar')"
   ],
   "metadata": {
    "collapsed": false,
    "ExecuteTime": {
     "end_time": "2024-05-20T18:11:03.617035Z",
     "start_time": "2024-05-20T18:10:57.905551Z"
    }
   },
   "id": "3ce6f16e23db5cc8",
   "execution_count": 112
  },
  {
   "cell_type": "code",
   "outputs": [],
   "source": [
    "def get_coordinates(city):\n",
    "    if city == 'Kyiv':\n",
    "        return (50.4501, 30.5234)\n",
    "    elif city == 'Rivne':\n",
    "        return (50.6199, 26.2516)\n",
    "    else:\n",
    "        return (46.4825, 30.7233)\n",
    "\n",
    "full_df['coordinates'] = full_df['region'].apply(get_coordinates)"
   ],
   "metadata": {
    "collapsed": false,
    "ExecuteTime": {
     "end_time": "2024-05-20T18:12:49.772552Z",
     "start_time": "2024-05-20T18:12:49.769887Z"
    }
   },
   "id": "58c2f1758a067d59",
   "execution_count": 113
  },
  {
   "cell_type": "code",
   "outputs": [
    {
     "data": {
      "text/plain": "        brand    model    year    price    number   color region  \\\n0      Toyota    Yaris  2019.0  35000.0  ВК4444AA     NaN  Rivne   \n1        Ford    Focus  2019.0  25000.0  ВК5555AA   black  Rivne   \n2      Toyota  Corolla  2019.0  40000.0  ВК6666AA  yellow  Rivne   \n3        Ford   Fiesta  2018.0  20000.0  ВК7777AA   green  Rivne   \n4        Ford  Mustang  2018.0  50000.0  ВК8888AA     red  Rivne   \n5      Toyota    Prius  2018.0  30000.0  ВК9999AA    blue  Rivne   \n6         NaN      NaN     NaN      NaN  ВН1111ВВ   white  Odesa   \n0  Volkswagen     Golf  2018.0  30000.0  AA1111AA    gray   Kyiv   \n1  Volkswagen   Passat  2019.0  40000.0  AA2222AA  silver   Kyiv   \n\n          coordinates  \n0  (50.6199, 26.2516)  \n1  (50.6199, 26.2516)  \n2  (50.6199, 26.2516)  \n3  (50.6199, 26.2516)  \n4  (50.6199, 26.2516)  \n5  (50.6199, 26.2516)  \n6  (46.4825, 30.7233)  \n0  (50.4501, 30.5234)  \n1  (50.4501, 30.5234)  ",
      "text/html": "<div>\n<style scoped>\n    .dataframe tbody tr th:only-of-type {\n        vertical-align: middle;\n    }\n\n    .dataframe tbody tr th {\n        vertical-align: top;\n    }\n\n    .dataframe thead th {\n        text-align: right;\n    }\n</style>\n<table border=\"1\" class=\"dataframe\">\n  <thead>\n    <tr style=\"text-align: right;\">\n      <th></th>\n      <th>brand</th>\n      <th>model</th>\n      <th>year</th>\n      <th>price</th>\n      <th>number</th>\n      <th>color</th>\n      <th>region</th>\n      <th>coordinates</th>\n    </tr>\n  </thead>\n  <tbody>\n    <tr>\n      <th>0</th>\n      <td>Toyota</td>\n      <td>Yaris</td>\n      <td>2019.0</td>\n      <td>35000.0</td>\n      <td>ВК4444AA</td>\n      <td>NaN</td>\n      <td>Rivne</td>\n      <td>(50.6199, 26.2516)</td>\n    </tr>\n    <tr>\n      <th>1</th>\n      <td>Ford</td>\n      <td>Focus</td>\n      <td>2019.0</td>\n      <td>25000.0</td>\n      <td>ВК5555AA</td>\n      <td>black</td>\n      <td>Rivne</td>\n      <td>(50.6199, 26.2516)</td>\n    </tr>\n    <tr>\n      <th>2</th>\n      <td>Toyota</td>\n      <td>Corolla</td>\n      <td>2019.0</td>\n      <td>40000.0</td>\n      <td>ВК6666AA</td>\n      <td>yellow</td>\n      <td>Rivne</td>\n      <td>(50.6199, 26.2516)</td>\n    </tr>\n    <tr>\n      <th>3</th>\n      <td>Ford</td>\n      <td>Fiesta</td>\n      <td>2018.0</td>\n      <td>20000.0</td>\n      <td>ВК7777AA</td>\n      <td>green</td>\n      <td>Rivne</td>\n      <td>(50.6199, 26.2516)</td>\n    </tr>\n    <tr>\n      <th>4</th>\n      <td>Ford</td>\n      <td>Mustang</td>\n      <td>2018.0</td>\n      <td>50000.0</td>\n      <td>ВК8888AA</td>\n      <td>red</td>\n      <td>Rivne</td>\n      <td>(50.6199, 26.2516)</td>\n    </tr>\n    <tr>\n      <th>5</th>\n      <td>Toyota</td>\n      <td>Prius</td>\n      <td>2018.0</td>\n      <td>30000.0</td>\n      <td>ВК9999AA</td>\n      <td>blue</td>\n      <td>Rivne</td>\n      <td>(50.6199, 26.2516)</td>\n    </tr>\n    <tr>\n      <th>6</th>\n      <td>NaN</td>\n      <td>NaN</td>\n      <td>NaN</td>\n      <td>NaN</td>\n      <td>ВН1111ВВ</td>\n      <td>white</td>\n      <td>Odesa</td>\n      <td>(46.4825, 30.7233)</td>\n    </tr>\n    <tr>\n      <th>0</th>\n      <td>Volkswagen</td>\n      <td>Golf</td>\n      <td>2018.0</td>\n      <td>30000.0</td>\n      <td>AA1111AA</td>\n      <td>gray</td>\n      <td>Kyiv</td>\n      <td>(50.4501, 30.5234)</td>\n    </tr>\n    <tr>\n      <th>1</th>\n      <td>Volkswagen</td>\n      <td>Passat</td>\n      <td>2019.0</td>\n      <td>40000.0</td>\n      <td>AA2222AA</td>\n      <td>silver</td>\n      <td>Kyiv</td>\n      <td>(50.4501, 30.5234)</td>\n    </tr>\n  </tbody>\n</table>\n</div>"
     },
     "execution_count": 114,
     "metadata": {},
     "output_type": "execute_result"
    }
   ],
   "source": [
    "full_df"
   ],
   "metadata": {
    "collapsed": false,
    "ExecuteTime": {
     "end_time": "2024-05-20T18:12:53.045209Z",
     "start_time": "2024-05-20T18:12:53.038559Z"
    }
   },
   "id": "d05bab56d4501be6",
   "execution_count": 114
  },
  {
   "cell_type": "code",
   "outputs": [],
   "source": [
    "# Plot map\n",
    "import folium\n",
    "m = folium.Map(location=[48.8566, 2.3522], zoom_start=3)\n",
    "for index, row in full_df.iterrows():\n",
    "    folium.Marker(row['coordinates'], popup=row['model']).add_to(m)"
   ],
   "metadata": {
    "collapsed": false,
    "ExecuteTime": {
     "end_time": "2024-05-20T18:14:19.822652Z",
     "start_time": "2024-05-20T18:14:19.708053Z"
    }
   },
   "id": "ac1044aa014d00e7",
   "execution_count": 115
  },
  {
   "cell_type": "code",
   "outputs": [],
   "source": [
    "m.save('map.html')"
   ],
   "metadata": {
    "collapsed": false,
    "ExecuteTime": {
     "end_time": "2024-05-20T18:14:28.372485Z",
     "start_time": "2024-05-20T18:14:28.364587Z"
    }
   },
   "id": "c8457911aba198b5",
   "execution_count": 116
  },
  {
   "cell_type": "code",
   "outputs": [],
   "source": [],
   "metadata": {
    "collapsed": false
   },
   "id": "3aa5b575eefd03ab"
  }
 ],
 "metadata": {
  "kernelspec": {
   "display_name": "Python 3",
   "language": "python",
   "name": "python3"
  },
  "language_info": {
   "codemirror_mode": {
    "name": "ipython",
    "version": 2
   },
   "file_extension": ".py",
   "mimetype": "text/x-python",
   "name": "python",
   "nbconvert_exporter": "python",
   "pygments_lexer": "ipython2",
   "version": "2.7.6"
  }
 },
 "nbformat": 4,
 "nbformat_minor": 5
}
